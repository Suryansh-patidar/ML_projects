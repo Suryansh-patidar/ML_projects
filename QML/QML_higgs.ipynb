{
  "nbformat": 4,
  "nbformat_minor": 0,
  "metadata": {
    "colab": {
      "provenance": [],
      "authorship_tag": "ABX9TyOUK4jQUO9atiFS8qxsyymP",
      "include_colab_link": true
    },
    "kernelspec": {
      "name": "python3",
      "display_name": "Python 3"
    },
    "language_info": {
      "name": "python"
    }
  },
  "cells": [
    {
      "cell_type": "markdown",
      "metadata": {
        "id": "view-in-github",
        "colab_type": "text"
      },
      "source": [
        "<a href=\"https://colab.research.google.com/github/Suryansh-patidar/ML_projects/blob/main/QML/QML_higgs.ipynb\" target=\"_parent\"><img src=\"https://colab.research.google.com/assets/colab-badge.svg\" alt=\"Open In Colab\"/></a>"
      ]
    },
    {
      "cell_type": "code",
      "source": [
        "import numpy as np\n",
        "import pandas as pd\n",
        "import matplotlib.pyplot as plt"
      ],
      "metadata": {
        "id": "k6208MDtQW0N"
      },
      "execution_count": 1,
      "outputs": []
    },
    {
      "cell_type": "code",
      "source": [
        "df = pd.read_csv('higgs.csv',delimiter=\" \",)\n",
        "df = df.sample(n=500)\n",
        "df"
      ],
      "metadata": {
        "colab": {
          "base_uri": "https://localhost:8080/",
          "height": 461
        },
        "id": "hEFMJZbQQXMY",
        "outputId": "2f0c3fd5-c547-4378-b50b-5fd3e9f7e65b"
      },
      "execution_count": 3,
      "outputs": [
        {
          "output_type": "execute_result",
          "data": {
            "text/plain": [
              "       1.000000000000000000e+00  1.241350769996643066e+00  \\\n",
              "14936                       1.0                  1.173271   \n",
              "24470                       1.0                  0.737893   \n",
              "22812                       0.0                  1.102630   \n",
              "35894                       1.0                  0.336737   \n",
              "12282                       1.0                  1.927452   \n",
              "...                         ...                       ...   \n",
              "30927                       0.0                  1.132094   \n",
              "17878                       0.0                  0.651146   \n",
              "26130                       1.0                  1.617983   \n",
              "33968                       0.0                  0.788220   \n",
              "28048                       1.0                  0.390724   \n",
              "\n",
              "       -2.610777914524078369e-01  1.164515614509582297e+00  \\\n",
              "14936                   0.203505                  1.615063   \n",
              "24470                   1.626474                 -1.136600   \n",
              "22812                   0.553160                  1.288250   \n",
              "35894                  -2.083373                 -1.116070   \n",
              "12282                  -1.276927                  0.712858   \n",
              "...                          ...                       ...   \n",
              "30927                   1.374216                  0.656817   \n",
              "17878                  -0.671119                 -1.371306   \n",
              "26130                  -0.871756                 -0.165590   \n",
              "33968                  -1.032461                  0.468165   \n",
              "28048                   1.794970                 -0.705472   \n",
              "\n",
              "       7.030053138732910156e-01  1.583520770072937012e+00  \\\n",
              "14936                  1.798418                  1.308160   \n",
              "24470                  1.355949                 -1.189065   \n",
              "22812                  0.780029                 -0.031323   \n",
              "35894                  0.835366                 -0.299116   \n",
              "12282                  0.102095                 -1.258291   \n",
              "...                         ...                       ...   \n",
              "30927                  0.942497                  1.587866   \n",
              "17878                  0.700665                  0.102648   \n",
              "26130                  0.156897                 -1.388446   \n",
              "33968                  1.032398                  1.404931   \n",
              "28048                  1.229890                  0.213393   \n",
              "\n",
              "       5.110766887664794922e-01  -1.138789772987365501e+00  \\\n",
              "14936                  1.408095                  -0.502072   \n",
              "24470                  1.613844                   0.676302   \n",
              "22812                  0.774173                   1.335795   \n",
              "35894                  0.914423                   0.042554   \n",
              "12282                  0.613036                  -0.319870   \n",
              "...                         ...                        ...   \n",
              "30927                  0.541215                   1.171417   \n",
              "17878                  0.554865                   1.720994   \n",
              "26130                  0.630991                  -0.337694   \n",
              "33968                  0.731667                  -1.399220   \n",
              "28048                  0.910393                  -0.165394   \n",
              "\n",
              "       -1.237864613533020020e+00  0.000000000000000000e+00  ...  \\\n",
              "14936                  -0.241649                  2.173076  ...   \n",
              "24470                   0.367157                  2.173076  ...   \n",
              "22812                  -0.918544                  0.000000  ...   \n",
              "35894                   0.309502                  0.000000  ...   \n",
              "12282                  -1.219570                  1.086538  ...   \n",
              "...                          ...                       ...  ...   \n",
              "30927                  -0.396320                  0.000000  ...   \n",
              "17878                   1.404394                  0.000000  ...   \n",
              "26130                   0.361059                  0.000000  ...   \n",
              "33968                   1.617274                  2.173076  ...   \n",
              "28048                  -1.538336                  2.173076  ...   \n",
              "\n",
              "       -7.416733503341673694e-01  7.572935223579406738e-01  \\\n",
              "14936                   0.283532                 -1.281559   \n",
              "24470                   2.239834                 -1.542368   \n",
              "22812                   0.904818                 -1.419177   \n",
              "35894                  -0.485164                  1.481454   \n",
              "12282                  -0.306107                 -0.201142   \n",
              "...                          ...                       ...   \n",
              "30927                  -0.689206                 -0.776589   \n",
              "17878                   0.644977                 -0.137327   \n",
              "26130                  -0.431863                 -1.135617   \n",
              "33968                   1.013918                 -0.061859   \n",
              "28048                  -1.609475                 -0.162299   \n",
              "\n",
              "       1.550980687141418457e+00  5.199499130249024548e-01  \\\n",
              "14936                  3.101961                  0.971105   \n",
              "24470                  0.000000                  1.377045   \n",
              "22812                  3.101961                  0.928292   \n",
              "35894                  3.101961                  0.612930   \n",
              "12282                  1.550981                  0.918555   \n",
              "...                         ...                       ...   \n",
              "30927                  0.000000                  0.806622   \n",
              "17878                  3.101961                  0.830778   \n",
              "26130                  1.550981                  1.684791   \n",
              "33968                  3.101961                  0.724715   \n",
              "28048                  0.000000                  0.773557   \n",
              "\n",
              "       8.023951053619383655e-01  9.981929659843443714e-01  \\\n",
              "14936                  0.921296                  0.984003   \n",
              "24470                  0.866378                  0.984537   \n",
              "22812                  1.004195                  1.192051   \n",
              "35894                  0.965984                  0.989298   \n",
              "12282                  1.058834                  0.981963   \n",
              "...                         ...                       ...   \n",
              "30927                  1.106071                  1.064954   \n",
              "17878                  0.992970                  0.988635   \n",
              "26130                  0.981316                  0.986063   \n",
              "33968                  1.010600                  0.988303   \n",
              "28048                  1.118454                  0.991577   \n",
              "\n",
              "       6.207510828971862793e-01  4.073499441146850586e-01  \\\n",
              "14936                  2.030745                  1.128942   \n",
              "24470                  1.592605                  1.161683   \n",
              "22812                  0.780181                  0.336048   \n",
              "35894                  0.807040                  0.862642   \n",
              "12282                  0.753460                  0.675849   \n",
              "...                         ...                       ...   \n",
              "30927                  0.949482                  0.407433   \n",
              "17878                  0.958990                  0.893772   \n",
              "26130                  0.975332                  0.379975   \n",
              "33968                  0.890108                  1.495669   \n",
              "28048                  0.825257                  0.743188   \n",
              "\n",
              "       6.529805660247802734e-01  7.242400050163269043e-01  \n",
              "14936                  1.316517                  1.282529  \n",
              "24470                  1.078978                  0.956729  \n",
              "22812                  0.700434                  0.661103  \n",
              "35894                  0.947838                  0.818472  \n",
              "12282                  0.754445                  0.710047  \n",
              "...                         ...                       ...  \n",
              "30927                  0.693601                  0.998689  \n",
              "17878                  0.890243                  1.102312  \n",
              "26130                  0.741417                  0.775536  \n",
              "33968                  0.930242                  0.826248  \n",
              "28048                  0.853655                  0.765940  \n",
              "\n",
              "[500 rows x 29 columns]"
            ],
            "text/html": [
              "\n",
              "  <div id=\"df-55af5f05-60ee-4908-8f51-b65a8569fcae\" class=\"colab-df-container\">\n",
              "    <div>\n",
              "<style scoped>\n",
              "    .dataframe tbody tr th:only-of-type {\n",
              "        vertical-align: middle;\n",
              "    }\n",
              "\n",
              "    .dataframe tbody tr th {\n",
              "        vertical-align: top;\n",
              "    }\n",
              "\n",
              "    .dataframe thead th {\n",
              "        text-align: right;\n",
              "    }\n",
              "</style>\n",
              "<table border=\"1\" class=\"dataframe\">\n",
              "  <thead>\n",
              "    <tr style=\"text-align: right;\">\n",
              "      <th></th>\n",
              "      <th>1.000000000000000000e+00</th>\n",
              "      <th>1.241350769996643066e+00</th>\n",
              "      <th>-2.610777914524078369e-01</th>\n",
              "      <th>1.164515614509582297e+00</th>\n",
              "      <th>7.030053138732910156e-01</th>\n",
              "      <th>1.583520770072937012e+00</th>\n",
              "      <th>5.110766887664794922e-01</th>\n",
              "      <th>-1.138789772987365501e+00</th>\n",
              "      <th>-1.237864613533020020e+00</th>\n",
              "      <th>0.000000000000000000e+00</th>\n",
              "      <th>...</th>\n",
              "      <th>-7.416733503341673694e-01</th>\n",
              "      <th>7.572935223579406738e-01</th>\n",
              "      <th>1.550980687141418457e+00</th>\n",
              "      <th>5.199499130249024548e-01</th>\n",
              "      <th>8.023951053619383655e-01</th>\n",
              "      <th>9.981929659843443714e-01</th>\n",
              "      <th>6.207510828971862793e-01</th>\n",
              "      <th>4.073499441146850586e-01</th>\n",
              "      <th>6.529805660247802734e-01</th>\n",
              "      <th>7.242400050163269043e-01</th>\n",
              "    </tr>\n",
              "  </thead>\n",
              "  <tbody>\n",
              "    <tr>\n",
              "      <th>14936</th>\n",
              "      <td>1.0</td>\n",
              "      <td>1.173271</td>\n",
              "      <td>0.203505</td>\n",
              "      <td>1.615063</td>\n",
              "      <td>1.798418</td>\n",
              "      <td>1.308160</td>\n",
              "      <td>1.408095</td>\n",
              "      <td>-0.502072</td>\n",
              "      <td>-0.241649</td>\n",
              "      <td>2.173076</td>\n",
              "      <td>...</td>\n",
              "      <td>0.283532</td>\n",
              "      <td>-1.281559</td>\n",
              "      <td>3.101961</td>\n",
              "      <td>0.971105</td>\n",
              "      <td>0.921296</td>\n",
              "      <td>0.984003</td>\n",
              "      <td>2.030745</td>\n",
              "      <td>1.128942</td>\n",
              "      <td>1.316517</td>\n",
              "      <td>1.282529</td>\n",
              "    </tr>\n",
              "    <tr>\n",
              "      <th>24470</th>\n",
              "      <td>1.0</td>\n",
              "      <td>0.737893</td>\n",
              "      <td>1.626474</td>\n",
              "      <td>-1.136600</td>\n",
              "      <td>1.355949</td>\n",
              "      <td>-1.189065</td>\n",
              "      <td>1.613844</td>\n",
              "      <td>0.676302</td>\n",
              "      <td>0.367157</td>\n",
              "      <td>2.173076</td>\n",
              "      <td>...</td>\n",
              "      <td>2.239834</td>\n",
              "      <td>-1.542368</td>\n",
              "      <td>0.000000</td>\n",
              "      <td>1.377045</td>\n",
              "      <td>0.866378</td>\n",
              "      <td>0.984537</td>\n",
              "      <td>1.592605</td>\n",
              "      <td>1.161683</td>\n",
              "      <td>1.078978</td>\n",
              "      <td>0.956729</td>\n",
              "    </tr>\n",
              "    <tr>\n",
              "      <th>22812</th>\n",
              "      <td>0.0</td>\n",
              "      <td>1.102630</td>\n",
              "      <td>0.553160</td>\n",
              "      <td>1.288250</td>\n",
              "      <td>0.780029</td>\n",
              "      <td>-0.031323</td>\n",
              "      <td>0.774173</td>\n",
              "      <td>1.335795</td>\n",
              "      <td>-0.918544</td>\n",
              "      <td>0.000000</td>\n",
              "      <td>...</td>\n",
              "      <td>0.904818</td>\n",
              "      <td>-1.419177</td>\n",
              "      <td>3.101961</td>\n",
              "      <td>0.928292</td>\n",
              "      <td>1.004195</td>\n",
              "      <td>1.192051</td>\n",
              "      <td>0.780181</td>\n",
              "      <td>0.336048</td>\n",
              "      <td>0.700434</td>\n",
              "      <td>0.661103</td>\n",
              "    </tr>\n",
              "    <tr>\n",
              "      <th>35894</th>\n",
              "      <td>1.0</td>\n",
              "      <td>0.336737</td>\n",
              "      <td>-2.083373</td>\n",
              "      <td>-1.116070</td>\n",
              "      <td>0.835366</td>\n",
              "      <td>-0.299116</td>\n",
              "      <td>0.914423</td>\n",
              "      <td>0.042554</td>\n",
              "      <td>0.309502</td>\n",
              "      <td>0.000000</td>\n",
              "      <td>...</td>\n",
              "      <td>-0.485164</td>\n",
              "      <td>1.481454</td>\n",
              "      <td>3.101961</td>\n",
              "      <td>0.612930</td>\n",
              "      <td>0.965984</td>\n",
              "      <td>0.989298</td>\n",
              "      <td>0.807040</td>\n",
              "      <td>0.862642</td>\n",
              "      <td>0.947838</td>\n",
              "      <td>0.818472</td>\n",
              "    </tr>\n",
              "    <tr>\n",
              "      <th>12282</th>\n",
              "      <td>1.0</td>\n",
              "      <td>1.927452</td>\n",
              "      <td>-1.276927</td>\n",
              "      <td>0.712858</td>\n",
              "      <td>0.102095</td>\n",
              "      <td>-1.258291</td>\n",
              "      <td>0.613036</td>\n",
              "      <td>-0.319870</td>\n",
              "      <td>-1.219570</td>\n",
              "      <td>1.086538</td>\n",
              "      <td>...</td>\n",
              "      <td>-0.306107</td>\n",
              "      <td>-0.201142</td>\n",
              "      <td>1.550981</td>\n",
              "      <td>0.918555</td>\n",
              "      <td>1.058834</td>\n",
              "      <td>0.981963</td>\n",
              "      <td>0.753460</td>\n",
              "      <td>0.675849</td>\n",
              "      <td>0.754445</td>\n",
              "      <td>0.710047</td>\n",
              "    </tr>\n",
              "    <tr>\n",
              "      <th>...</th>\n",
              "      <td>...</td>\n",
              "      <td>...</td>\n",
              "      <td>...</td>\n",
              "      <td>...</td>\n",
              "      <td>...</td>\n",
              "      <td>...</td>\n",
              "      <td>...</td>\n",
              "      <td>...</td>\n",
              "      <td>...</td>\n",
              "      <td>...</td>\n",
              "      <td>...</td>\n",
              "      <td>...</td>\n",
              "      <td>...</td>\n",
              "      <td>...</td>\n",
              "      <td>...</td>\n",
              "      <td>...</td>\n",
              "      <td>...</td>\n",
              "      <td>...</td>\n",
              "      <td>...</td>\n",
              "      <td>...</td>\n",
              "      <td>...</td>\n",
              "    </tr>\n",
              "    <tr>\n",
              "      <th>30927</th>\n",
              "      <td>0.0</td>\n",
              "      <td>1.132094</td>\n",
              "      <td>1.374216</td>\n",
              "      <td>0.656817</td>\n",
              "      <td>0.942497</td>\n",
              "      <td>1.587866</td>\n",
              "      <td>0.541215</td>\n",
              "      <td>1.171417</td>\n",
              "      <td>-0.396320</td>\n",
              "      <td>0.000000</td>\n",
              "      <td>...</td>\n",
              "      <td>-0.689206</td>\n",
              "      <td>-0.776589</td>\n",
              "      <td>0.000000</td>\n",
              "      <td>0.806622</td>\n",
              "      <td>1.106071</td>\n",
              "      <td>1.064954</td>\n",
              "      <td>0.949482</td>\n",
              "      <td>0.407433</td>\n",
              "      <td>0.693601</td>\n",
              "      <td>0.998689</td>\n",
              "    </tr>\n",
              "    <tr>\n",
              "      <th>17878</th>\n",
              "      <td>0.0</td>\n",
              "      <td>0.651146</td>\n",
              "      <td>-0.671119</td>\n",
              "      <td>-1.371306</td>\n",
              "      <td>0.700665</td>\n",
              "      <td>0.102648</td>\n",
              "      <td>0.554865</td>\n",
              "      <td>1.720994</td>\n",
              "      <td>1.404394</td>\n",
              "      <td>0.000000</td>\n",
              "      <td>...</td>\n",
              "      <td>0.644977</td>\n",
              "      <td>-0.137327</td>\n",
              "      <td>3.101961</td>\n",
              "      <td>0.830778</td>\n",
              "      <td>0.992970</td>\n",
              "      <td>0.988635</td>\n",
              "      <td>0.958990</td>\n",
              "      <td>0.893772</td>\n",
              "      <td>0.890243</td>\n",
              "      <td>1.102312</td>\n",
              "    </tr>\n",
              "    <tr>\n",
              "      <th>26130</th>\n",
              "      <td>1.0</td>\n",
              "      <td>1.617983</td>\n",
              "      <td>-0.871756</td>\n",
              "      <td>-0.165590</td>\n",
              "      <td>0.156897</td>\n",
              "      <td>-1.388446</td>\n",
              "      <td>0.630991</td>\n",
              "      <td>-0.337694</td>\n",
              "      <td>0.361059</td>\n",
              "      <td>0.000000</td>\n",
              "      <td>...</td>\n",
              "      <td>-0.431863</td>\n",
              "      <td>-1.135617</td>\n",
              "      <td>1.550981</td>\n",
              "      <td>1.684791</td>\n",
              "      <td>0.981316</td>\n",
              "      <td>0.986063</td>\n",
              "      <td>0.975332</td>\n",
              "      <td>0.379975</td>\n",
              "      <td>0.741417</td>\n",
              "      <td>0.775536</td>\n",
              "    </tr>\n",
              "    <tr>\n",
              "      <th>33968</th>\n",
              "      <td>0.0</td>\n",
              "      <td>0.788220</td>\n",
              "      <td>-1.032461</td>\n",
              "      <td>0.468165</td>\n",
              "      <td>1.032398</td>\n",
              "      <td>1.404931</td>\n",
              "      <td>0.731667</td>\n",
              "      <td>-1.399220</td>\n",
              "      <td>1.617274</td>\n",
              "      <td>2.173076</td>\n",
              "      <td>...</td>\n",
              "      <td>1.013918</td>\n",
              "      <td>-0.061859</td>\n",
              "      <td>3.101961</td>\n",
              "      <td>0.724715</td>\n",
              "      <td>1.010600</td>\n",
              "      <td>0.988303</td>\n",
              "      <td>0.890108</td>\n",
              "      <td>1.495669</td>\n",
              "      <td>0.930242</td>\n",
              "      <td>0.826248</td>\n",
              "    </tr>\n",
              "    <tr>\n",
              "      <th>28048</th>\n",
              "      <td>1.0</td>\n",
              "      <td>0.390724</td>\n",
              "      <td>1.794970</td>\n",
              "      <td>-0.705472</td>\n",
              "      <td>1.229890</td>\n",
              "      <td>0.213393</td>\n",
              "      <td>0.910393</td>\n",
              "      <td>-0.165394</td>\n",
              "      <td>-1.538336</td>\n",
              "      <td>2.173076</td>\n",
              "      <td>...</td>\n",
              "      <td>-1.609475</td>\n",
              "      <td>-0.162299</td>\n",
              "      <td>0.000000</td>\n",
              "      <td>0.773557</td>\n",
              "      <td>1.118454</td>\n",
              "      <td>0.991577</td>\n",
              "      <td>0.825257</td>\n",
              "      <td>0.743188</td>\n",
              "      <td>0.853655</td>\n",
              "      <td>0.765940</td>\n",
              "    </tr>\n",
              "  </tbody>\n",
              "</table>\n",
              "<p>500 rows × 29 columns</p>\n",
              "</div>\n",
              "    <div class=\"colab-df-buttons\">\n",
              "\n",
              "  <div class=\"colab-df-container\">\n",
              "    <button class=\"colab-df-convert\" onclick=\"convertToInteractive('df-55af5f05-60ee-4908-8f51-b65a8569fcae')\"\n",
              "            title=\"Convert this dataframe to an interactive table.\"\n",
              "            style=\"display:none;\">\n",
              "\n",
              "  <svg xmlns=\"http://www.w3.org/2000/svg\" height=\"24px\" viewBox=\"0 -960 960 960\">\n",
              "    <path d=\"M120-120v-720h720v720H120Zm60-500h600v-160H180v160Zm220 220h160v-160H400v160Zm0 220h160v-160H400v160ZM180-400h160v-160H180v160Zm440 0h160v-160H620v160ZM180-180h160v-160H180v160Zm440 0h160v-160H620v160Z\"/>\n",
              "  </svg>\n",
              "    </button>\n",
              "\n",
              "  <style>\n",
              "    .colab-df-container {\n",
              "      display:flex;\n",
              "      gap: 12px;\n",
              "    }\n",
              "\n",
              "    .colab-df-convert {\n",
              "      background-color: #E8F0FE;\n",
              "      border: none;\n",
              "      border-radius: 50%;\n",
              "      cursor: pointer;\n",
              "      display: none;\n",
              "      fill: #1967D2;\n",
              "      height: 32px;\n",
              "      padding: 0 0 0 0;\n",
              "      width: 32px;\n",
              "    }\n",
              "\n",
              "    .colab-df-convert:hover {\n",
              "      background-color: #E2EBFA;\n",
              "      box-shadow: 0px 1px 2px rgba(60, 64, 67, 0.3), 0px 1px 3px 1px rgba(60, 64, 67, 0.15);\n",
              "      fill: #174EA6;\n",
              "    }\n",
              "\n",
              "    .colab-df-buttons div {\n",
              "      margin-bottom: 4px;\n",
              "    }\n",
              "\n",
              "    [theme=dark] .colab-df-convert {\n",
              "      background-color: #3B4455;\n",
              "      fill: #D2E3FC;\n",
              "    }\n",
              "\n",
              "    [theme=dark] .colab-df-convert:hover {\n",
              "      background-color: #434B5C;\n",
              "      box-shadow: 0px 1px 3px 1px rgba(0, 0, 0, 0.15);\n",
              "      filter: drop-shadow(0px 1px 2px rgba(0, 0, 0, 0.3));\n",
              "      fill: #FFFFFF;\n",
              "    }\n",
              "  </style>\n",
              "\n",
              "    <script>\n",
              "      const buttonEl =\n",
              "        document.querySelector('#df-55af5f05-60ee-4908-8f51-b65a8569fcae button.colab-df-convert');\n",
              "      buttonEl.style.display =\n",
              "        google.colab.kernel.accessAllowed ? 'block' : 'none';\n",
              "\n",
              "      async function convertToInteractive(key) {\n",
              "        const element = document.querySelector('#df-55af5f05-60ee-4908-8f51-b65a8569fcae');\n",
              "        const dataTable =\n",
              "          await google.colab.kernel.invokeFunction('convertToInteractive',\n",
              "                                                    [key], {});\n",
              "        if (!dataTable) return;\n",
              "\n",
              "        const docLinkHtml = 'Like what you see? Visit the ' +\n",
              "          '<a target=\"_blank\" href=https://colab.research.google.com/notebooks/data_table.ipynb>data table notebook</a>'\n",
              "          + ' to learn more about interactive tables.';\n",
              "        element.innerHTML = '';\n",
              "        dataTable['output_type'] = 'display_data';\n",
              "        await google.colab.output.renderOutput(dataTable, element);\n",
              "        const docLink = document.createElement('div');\n",
              "        docLink.innerHTML = docLinkHtml;\n",
              "        element.appendChild(docLink);\n",
              "      }\n",
              "    </script>\n",
              "  </div>\n",
              "\n",
              "\n",
              "<div id=\"df-30a157fb-9413-476e-b86f-f196a8724fe5\">\n",
              "  <button class=\"colab-df-quickchart\" onclick=\"quickchart('df-30a157fb-9413-476e-b86f-f196a8724fe5')\"\n",
              "            title=\"Suggest charts\"\n",
              "            style=\"display:none;\">\n",
              "\n",
              "<svg xmlns=\"http://www.w3.org/2000/svg\" height=\"24px\"viewBox=\"0 0 24 24\"\n",
              "     width=\"24px\">\n",
              "    <g>\n",
              "        <path d=\"M19 3H5c-1.1 0-2 .9-2 2v14c0 1.1.9 2 2 2h14c1.1 0 2-.9 2-2V5c0-1.1-.9-2-2-2zM9 17H7v-7h2v7zm4 0h-2V7h2v10zm4 0h-2v-4h2v4z\"/>\n",
              "    </g>\n",
              "</svg>\n",
              "  </button>\n",
              "\n",
              "<style>\n",
              "  .colab-df-quickchart {\n",
              "      --bg-color: #E8F0FE;\n",
              "      --fill-color: #1967D2;\n",
              "      --hover-bg-color: #E2EBFA;\n",
              "      --hover-fill-color: #174EA6;\n",
              "      --disabled-fill-color: #AAA;\n",
              "      --disabled-bg-color: #DDD;\n",
              "  }\n",
              "\n",
              "  [theme=dark] .colab-df-quickchart {\n",
              "      --bg-color: #3B4455;\n",
              "      --fill-color: #D2E3FC;\n",
              "      --hover-bg-color: #434B5C;\n",
              "      --hover-fill-color: #FFFFFF;\n",
              "      --disabled-bg-color: #3B4455;\n",
              "      --disabled-fill-color: #666;\n",
              "  }\n",
              "\n",
              "  .colab-df-quickchart {\n",
              "    background-color: var(--bg-color);\n",
              "    border: none;\n",
              "    border-radius: 50%;\n",
              "    cursor: pointer;\n",
              "    display: none;\n",
              "    fill: var(--fill-color);\n",
              "    height: 32px;\n",
              "    padding: 0;\n",
              "    width: 32px;\n",
              "  }\n",
              "\n",
              "  .colab-df-quickchart:hover {\n",
              "    background-color: var(--hover-bg-color);\n",
              "    box-shadow: 0 1px 2px rgba(60, 64, 67, 0.3), 0 1px 3px 1px rgba(60, 64, 67, 0.15);\n",
              "    fill: var(--button-hover-fill-color);\n",
              "  }\n",
              "\n",
              "  .colab-df-quickchart-complete:disabled,\n",
              "  .colab-df-quickchart-complete:disabled:hover {\n",
              "    background-color: var(--disabled-bg-color);\n",
              "    fill: var(--disabled-fill-color);\n",
              "    box-shadow: none;\n",
              "  }\n",
              "\n",
              "  .colab-df-spinner {\n",
              "    border: 2px solid var(--fill-color);\n",
              "    border-color: transparent;\n",
              "    border-bottom-color: var(--fill-color);\n",
              "    animation:\n",
              "      spin 1s steps(1) infinite;\n",
              "  }\n",
              "\n",
              "  @keyframes spin {\n",
              "    0% {\n",
              "      border-color: transparent;\n",
              "      border-bottom-color: var(--fill-color);\n",
              "      border-left-color: var(--fill-color);\n",
              "    }\n",
              "    20% {\n",
              "      border-color: transparent;\n",
              "      border-left-color: var(--fill-color);\n",
              "      border-top-color: var(--fill-color);\n",
              "    }\n",
              "    30% {\n",
              "      border-color: transparent;\n",
              "      border-left-color: var(--fill-color);\n",
              "      border-top-color: var(--fill-color);\n",
              "      border-right-color: var(--fill-color);\n",
              "    }\n",
              "    40% {\n",
              "      border-color: transparent;\n",
              "      border-right-color: var(--fill-color);\n",
              "      border-top-color: var(--fill-color);\n",
              "    }\n",
              "    60% {\n",
              "      border-color: transparent;\n",
              "      border-right-color: var(--fill-color);\n",
              "    }\n",
              "    80% {\n",
              "      border-color: transparent;\n",
              "      border-right-color: var(--fill-color);\n",
              "      border-bottom-color: var(--fill-color);\n",
              "    }\n",
              "    90% {\n",
              "      border-color: transparent;\n",
              "      border-bottom-color: var(--fill-color);\n",
              "    }\n",
              "  }\n",
              "</style>\n",
              "\n",
              "  <script>\n",
              "    async function quickchart(key) {\n",
              "      const quickchartButtonEl =\n",
              "        document.querySelector('#' + key + ' button');\n",
              "      quickchartButtonEl.disabled = true;  // To prevent multiple clicks.\n",
              "      quickchartButtonEl.classList.add('colab-df-spinner');\n",
              "      try {\n",
              "        const charts = await google.colab.kernel.invokeFunction(\n",
              "            'suggestCharts', [key], {});\n",
              "      } catch (error) {\n",
              "        console.error('Error during call to suggestCharts:', error);\n",
              "      }\n",
              "      quickchartButtonEl.classList.remove('colab-df-spinner');\n",
              "      quickchartButtonEl.classList.add('colab-df-quickchart-complete');\n",
              "    }\n",
              "    (() => {\n",
              "      let quickchartButtonEl =\n",
              "        document.querySelector('#df-30a157fb-9413-476e-b86f-f196a8724fe5 button');\n",
              "      quickchartButtonEl.style.display =\n",
              "        google.colab.kernel.accessAllowed ? 'block' : 'none';\n",
              "    })();\n",
              "  </script>\n",
              "</div>\n",
              "\n",
              "  <div id=\"id_029adf44-d70b-4908-ba4c-73af8c1a554a\">\n",
              "    <style>\n",
              "      .colab-df-generate {\n",
              "        background-color: #E8F0FE;\n",
              "        border: none;\n",
              "        border-radius: 50%;\n",
              "        cursor: pointer;\n",
              "        display: none;\n",
              "        fill: #1967D2;\n",
              "        height: 32px;\n",
              "        padding: 0 0 0 0;\n",
              "        width: 32px;\n",
              "      }\n",
              "\n",
              "      .colab-df-generate:hover {\n",
              "        background-color: #E2EBFA;\n",
              "        box-shadow: 0px 1px 2px rgba(60, 64, 67, 0.3), 0px 1px 3px 1px rgba(60, 64, 67, 0.15);\n",
              "        fill: #174EA6;\n",
              "      }\n",
              "\n",
              "      [theme=dark] .colab-df-generate {\n",
              "        background-color: #3B4455;\n",
              "        fill: #D2E3FC;\n",
              "      }\n",
              "\n",
              "      [theme=dark] .colab-df-generate:hover {\n",
              "        background-color: #434B5C;\n",
              "        box-shadow: 0px 1px 3px 1px rgba(0, 0, 0, 0.15);\n",
              "        filter: drop-shadow(0px 1px 2px rgba(0, 0, 0, 0.3));\n",
              "        fill: #FFFFFF;\n",
              "      }\n",
              "    </style>\n",
              "    <button class=\"colab-df-generate\" onclick=\"generateWithVariable('df')\"\n",
              "            title=\"Generate code using this dataframe.\"\n",
              "            style=\"display:none;\">\n",
              "\n",
              "  <svg xmlns=\"http://www.w3.org/2000/svg\" height=\"24px\"viewBox=\"0 0 24 24\"\n",
              "       width=\"24px\">\n",
              "    <path d=\"M7,19H8.4L18.45,9,17,7.55,7,17.6ZM5,21V16.75L18.45,3.32a2,2,0,0,1,2.83,0l1.4,1.43a1.91,1.91,0,0,1,.58,1.4,1.91,1.91,0,0,1-.58,1.4L9.25,21ZM18.45,9,17,7.55Zm-12,3A5.31,5.31,0,0,0,4.9,8.1,5.31,5.31,0,0,0,1,6.5,5.31,5.31,0,0,0,4.9,4.9,5.31,5.31,0,0,0,6.5,1,5.31,5.31,0,0,0,8.1,4.9,5.31,5.31,0,0,0,12,6.5,5.46,5.46,0,0,0,6.5,12Z\"/>\n",
              "  </svg>\n",
              "    </button>\n",
              "    <script>\n",
              "      (() => {\n",
              "      const buttonEl =\n",
              "        document.querySelector('#id_029adf44-d70b-4908-ba4c-73af8c1a554a button.colab-df-generate');\n",
              "      buttonEl.style.display =\n",
              "        google.colab.kernel.accessAllowed ? 'block' : 'none';\n",
              "\n",
              "      buttonEl.onclick = () => {\n",
              "        google.colab.notebook.generateWithVariable('df');\n",
              "      }\n",
              "      })();\n",
              "    </script>\n",
              "  </div>\n",
              "\n",
              "    </div>\n",
              "  </div>\n"
            ],
            "application/vnd.google.colaboratory.intrinsic+json": {
              "type": "dataframe",
              "variable_name": "df"
            }
          },
          "metadata": {},
          "execution_count": 3
        }
      ]
    },
    {
      "cell_type": "code",
      "source": [
        "from sklearn.preprocessing import StandardScaler\n",
        "scaler = StandardScaler()\n",
        "\n",
        "data_arr = df.to_numpy()\n",
        "# data_arr[:,1]"
      ],
      "metadata": {
        "id": "6Rs7MecuQgbH"
      },
      "execution_count": 4,
      "outputs": []
    },
    {
      "cell_type": "code",
      "source": [
        "np.random.shuffle(data_arr)\n",
        "X = data_arr[:,-7:]\n",
        "y = data_arr[:,0]\n",
        "\n",
        "y"
      ],
      "metadata": {
        "colab": {
          "base_uri": "https://localhost:8080/"
        },
        "id": "OOJgERy5Qi1q",
        "outputId": "a7d41926-8715-448f-85e9-25c8056cfb87"
      },
      "execution_count": 5,
      "outputs": [
        {
          "output_type": "execute_result",
          "data": {
            "text/plain": [
              "array([1., 0., 0., 1., 0., 1., 0., 0., 0., 1., 0., 0., 1., 1., 0., 0., 0.,\n",
              "       0., 1., 0., 0., 0., 0., 0., 0., 1., 0., 0., 0., 0., 1., 1., 1., 1.,\n",
              "       0., 1., 1., 1., 1., 0., 0., 1., 1., 0., 1., 0., 1., 0., 1., 0., 1.,\n",
              "       0., 1., 1., 0., 1., 1., 0., 1., 1., 0., 0., 0., 1., 1., 1., 1., 1.,\n",
              "       1., 0., 1., 0., 1., 0., 0., 1., 1., 1., 1., 1., 0., 1., 0., 0., 0.,\n",
              "       1., 1., 1., 1., 0., 0., 1., 0., 0., 0., 0., 0., 0., 0., 1., 0., 1.,\n",
              "       0., 1., 0., 0., 0., 0., 1., 1., 0., 0., 0., 0., 1., 1., 0., 1., 1.,\n",
              "       0., 1., 1., 1., 0., 1., 1., 0., 0., 0., 1., 1., 1., 1., 0., 0., 1.,\n",
              "       0., 0., 1., 0., 0., 0., 0., 0., 0., 1., 1., 1., 1., 0., 0., 0., 1.,\n",
              "       0., 1., 0., 1., 1., 1., 0., 1., 1., 0., 0., 1., 1., 0., 1., 1., 1.,\n",
              "       0., 0., 1., 1., 1., 1., 1., 0., 0., 0., 0., 1., 0., 1., 0., 1., 0.,\n",
              "       1., 1., 1., 1., 1., 1., 0., 1., 1., 1., 1., 1., 0., 0., 1., 1., 1.,\n",
              "       0., 1., 1., 0., 1., 0., 0., 1., 1., 1., 0., 1., 1., 0., 1., 0., 0.,\n",
              "       0., 0., 0., 0., 0., 1., 0., 1., 0., 0., 1., 1., 0., 0., 0., 0., 1.,\n",
              "       1., 0., 1., 1., 1., 0., 0., 1., 1., 1., 1., 0., 1., 1., 1., 0., 0.,\n",
              "       0., 0., 0., 0., 0., 0., 0., 0., 1., 0., 0., 0., 1., 0., 1., 1., 0.,\n",
              "       0., 1., 1., 1., 0., 0., 1., 0., 1., 1., 0., 1., 1., 1., 1., 1., 0.,\n",
              "       1., 1., 0., 1., 1., 0., 1., 0., 1., 0., 1., 0., 0., 1., 1., 1., 1.,\n",
              "       1., 0., 0., 1., 0., 1., 1., 0., 1., 1., 1., 1., 0., 1., 1., 0., 1.,\n",
              "       1., 1., 1., 1., 0., 0., 0., 0., 0., 0., 1., 1., 0., 0., 1., 1., 0.,\n",
              "       0., 0., 1., 0., 1., 1., 0., 1., 0., 0., 1., 0., 0., 1., 0., 1., 1.,\n",
              "       0., 1., 1., 1., 1., 1., 0., 1., 0., 1., 0., 1., 1., 0., 1., 1., 1.,\n",
              "       1., 0., 1., 0., 0., 0., 1., 1., 1., 0., 1., 0., 0., 1., 0., 1., 0.,\n",
              "       1., 0., 0., 1., 1., 0., 1., 1., 1., 0., 1., 0., 1., 1., 1., 0., 0.,\n",
              "       1., 1., 0., 1., 0., 1., 1., 1., 0., 0., 1., 1., 1., 1., 1., 1., 0.,\n",
              "       1., 1., 0., 1., 1., 0., 1., 0., 0., 1., 0., 1., 1., 0., 0., 1., 0.,\n",
              "       0., 1., 1., 0., 0., 1., 1., 0., 0., 1., 1., 1., 0., 0., 0., 0., 0.,\n",
              "       1., 0., 1., 0., 1., 1., 0., 1., 0., 1., 1., 0., 1., 1., 0., 0., 0.,\n",
              "       0., 0., 1., 0., 0., 1., 1., 1., 1., 0., 0., 1., 0., 0., 0., 1., 0.,\n",
              "       1., 1., 0., 0., 1., 0., 1.])"
            ]
          },
          "metadata": {},
          "execution_count": 5
        }
      ]
    },
    {
      "cell_type": "code",
      "source": [
        "X.shape\n"
      ],
      "metadata": {
        "colab": {
          "base_uri": "https://localhost:8080/"
        },
        "id": "rrZcMG-mQl0J",
        "outputId": "551885b9-adfb-477b-f04d-5da5f4d20146"
      },
      "execution_count": 6,
      "outputs": [
        {
          "output_type": "execute_result",
          "data": {
            "text/plain": [
              "(500, 7)"
            ]
          },
          "metadata": {},
          "execution_count": 6
        }
      ]
    },
    {
      "cell_type": "code",
      "source": [
        "from sklearn.model_selection import train_test_split\n",
        "# import keras\n",
        "# from keras.models import Model\n",
        "# from keras.models import Sequential\n",
        "# from keras.layers import Dense,Dropout\n",
        "# from keras.optimizers import Adam\n",
        "# from keras.optimizers import SGD\n",
        "# from keras import regularizers"
      ],
      "metadata": {
        "id": "sovjopoQQolP"
      },
      "execution_count": 7,
      "outputs": []
    },
    {
      "cell_type": "code",
      "source": [
        "X_train, X_test, y_train, y_test = train_test_split(X,y,test_size=0.1)\n",
        "\n",
        "X_train_scaled = scaler.fit_transform(X_train)\n",
        "X_test_scaled = scaler.transform(X_test)"
      ],
      "metadata": {
        "id": "82DKk9nFQrVe"
      },
      "execution_count": 8,
      "outputs": []
    },
    {
      "cell_type": "code",
      "source": [
        "from sklearn.decomposition import PCA\n",
        "pca = PCA(n_components=2)\n",
        "X_train_pca = pca.fit_transform(X_train_scaled)\n",
        "X_test_pca = pca.fit_transform(X_test_scaled)"
      ],
      "metadata": {
        "id": "r8EFiRb1SQU8"
      },
      "execution_count": 9,
      "outputs": []
    },
    {
      "cell_type": "code",
      "source": [
        "plt.figure(figsize=(8, 6))\n",
        "plt.scatter(X_train_pca[:, 0], X_train_pca[:, 1], c=y_train, s=2)\n",
        "# plt.scatter(X_test_pca[:, 0], X_test_pca[:, 1], c=y_test, s=2)\n",
        "plt.xlabel('Principal Component 1')\n",
        "plt.ylabel('Principal Component 2')\n",
        "plt.title('PCA of Dataset')\n",
        "plt.colorbar()\n",
        "plt.show()\n"
      ],
      "metadata": {
        "colab": {
          "base_uri": "https://localhost:8080/",
          "height": 564
        },
        "id": "ZYcJP5PISXOx",
        "outputId": "dc082edc-f0f4-4bed-af8b-32221ff82e38"
      },
      "execution_count": 10,
      "outputs": [
        {
          "output_type": "display_data",
          "data": {
            "text/plain": [
              "<Figure size 800x600 with 2 Axes>"
            ],
            "image/png": "[encoded data removed]"
          },
          "metadata": {}
        }
      ]
    },
    {
      "cell_type": "code",
      "source": [
        "X_train.shape"
      ],
      "metadata": {
        "colab": {
          "base_uri": "https://localhost:8080/"
        },
        "id": "ZDjEPvn1QuDy",
        "outputId": "f1a36564-769c-4d86-a6fd-62acfd5641f5"
      },
      "execution_count": 11,
      "outputs": [
        {
          "output_type": "execute_result",
          "data": {
            "text/plain": [
              "(450, 7)"
            ]
          },
          "metadata": {},
          "execution_count": 11
        }
      ]
    },
    {
      "cell_type": "code",
      "source": [
        "from sklearn import svm\n",
        "from sklearn.metrics import accuracy_score, classification_report\n"
      ],
      "metadata": {
        "id": "MrL9jCkAQvYm"
      },
      "execution_count": 12,
      "outputs": []
    },
    {
      "cell_type": "code",
      "source": [
        "clf = svm.SVC(kernel='linear')\n",
        "clf.fit(X_train_scaled, y_train)\n",
        "y_pred = clf.predict(X_test_scaled)\n"
      ],
      "metadata": {
        "id": "ZvaDd95aQ0gQ"
      },
      "execution_count": 13,
      "outputs": []
    },
    {
      "cell_type": "code",
      "source": [
        "accuracy = accuracy_score(y_test, y_pred)\n",
        "print(f'Accuracy: {accuracy:.2f}')\n",
        "\n",
        "report = classification_report(y_test, y_pred)\n",
        "print(f'Classification Report:\\n{report}')\n",
        "\n",
        "train_score_c4 = clf.score(X_train_scaled, y_train)\n",
        "test_score_c4 = clf.score(X_test_scaled, y_test)\n",
        "\n",
        "print(f\"Classical SVC on the training dataset: {train_score_c4:.2f}\")\n",
        "print(f\"Classical SVC on the test dataset:     {test_score_c4:.2f}\")\n"
      ],
      "metadata": {
        "colab": {
          "base_uri": "https://localhost:8080/"
        },
        "id": "h5il7t7VQ3Lx",
        "outputId": "258bc28b-f3a7-4385-b714-62d72ba155d3"
      },
      "execution_count": 15,
      "outputs": [
        {
          "output_type": "stream",
          "name": "stdout",
          "text": [
            "Accuracy: 0.76\n",
            "Classification Report:\n",
            "              precision    recall  f1-score   support\n",
            "\n",
            "         0.0       0.92      0.52      0.67        23\n",
            "         1.0       0.70      0.96      0.81        27\n",
            "\n",
            "    accuracy                           0.76        50\n",
            "   macro avg       0.81      0.74      0.74        50\n",
            "weighted avg       0.80      0.76      0.75        50\n",
            "\n",
            "Classical SVC on the training dataset: 0.65\n",
            "Classical SVC on the test dataset:     0.76\n"
          ]
        }
      ]
    },
    {
      "cell_type": "code",
      "source": [
        "clf_gk = svm.SVC(kernel='rbf')\n",
        "clf_gk.fit(X_train_scaled, y_train)\n",
        "y_pred_gk = clf.predict(X_test_scaled)\n"
      ],
      "metadata": {
        "id": "EmmUwjKpQ5fW"
      },
      "execution_count": 16,
      "outputs": []
    },
    {
      "cell_type": "code",
      "source": [
        "accuracy = accuracy_score(y_test, y_pred_gk)\n",
        "print(f'Accuracy: {accuracy:.2f}')\n",
        "\n",
        "report = classification_report(y_test, y_pred_gk)\n",
        "print(f'Classification Report:\\n{report}')\n",
        "\n",
        "train_score_gk = clf_gk.score(X_train_scaled, y_train)\n",
        "test_score_gk = clf_gk.score(X_test_scaled, y_test)\n",
        "\n",
        "print(f\"Classical SVC on the training dataset: {train_score_gk:.2f}\")\n",
        "print(f\"Classical SVC on the test dataset:     {test_score_gk:.2f}\")\n",
        "\n",
        "\n"
      ],
      "metadata": {
        "colab": {
          "base_uri": "https://localhost:8080/"
        },
        "id": "lpq4xP0_Q8OE",
        "outputId": "125ed33b-da3d-40b8-b698-edf2b0bba46b"
      },
      "execution_count": 18,
      "outputs": [
        {
          "output_type": "stream",
          "name": "stdout",
          "text": [
            "Accuracy: 0.76\n",
            "Classification Report:\n",
            "              precision    recall  f1-score   support\n",
            "\n",
            "         0.0       0.92      0.52      0.67        23\n",
            "         1.0       0.70      0.96      0.81        27\n",
            "\n",
            "    accuracy                           0.76        50\n",
            "   macro avg       0.81      0.74      0.74        50\n",
            "weighted avg       0.80      0.76      0.75        50\n",
            "\n",
            "Classical SVC on the training dataset: 0.70\n",
            "Classical SVC on the test dataset:     0.74\n"
          ]
        }
      ]
    },
    {
      "cell_type": "code",
      "source": [
        "clf_pk = svm.SVC(kernel='poly')\n",
        "clf_pk.fit(X_train_scaled, y_train)\n",
        "y_pred_pk = clf_pk.predict(X_test_scaled)"
      ],
      "metadata": {
        "id": "sva5oWwtBtfi"
      },
      "execution_count": 19,
      "outputs": []
    },
    {
      "cell_type": "code",
      "source": [
        "accuracy = accuracy_score(y_test, y_pred_pk)\n",
        "print(f'Accuracy: {accuracy:.2f}')\n",
        "\n",
        "report = classification_report(y_test, y_pred_pk)\n",
        "print(f'Classification Report:\\n{report}')\n",
        "\n",
        "train_score_pk = clf_pk.score(X_train_scaled, y_train)\n",
        "test_score_pk = clf_pk.score(X_test_scaled, y_test)\n",
        "\n",
        "print(f\"Classical SVC on the training dataset: {train_score_pk:.2f}\")\n",
        "print(f\"Classical SVC on the test dataset:     {test_score_pk:.2f}\")\n",
        "\n",
        "\n"
      ],
      "metadata": {
        "colab": {
          "base_uri": "https://localhost:8080/"
        },
        "id": "SFyg49LDB_gJ",
        "outputId": "84ab82ed-4fbe-4c69-adcd-9a1f9a929e6f"
      },
      "execution_count": 20,
      "outputs": [
        {
          "output_type": "stream",
          "name": "stdout",
          "text": [
            "Accuracy: 0.60\n",
            "Classification Report:\n",
            "              precision    recall  f1-score   support\n",
            "\n",
            "         0.0       0.80      0.17      0.29        23\n",
            "         1.0       0.58      0.96      0.72        27\n",
            "\n",
            "    accuracy                           0.60        50\n",
            "   macro avg       0.69      0.57      0.50        50\n",
            "weighted avg       0.68      0.60      0.52        50\n",
            "\n",
            "Classical SVC on the training dataset: 0.60\n",
            "Classical SVC on the test dataset:     0.60\n"
          ]
        }
      ]
    },
    {
      "cell_type": "code",
      "source": [
        "# !pip install qiskit qiskit-machine-learning\n"
      ],
      "metadata": {
        "id": "2tkXmw5sTYS4"
      },
      "execution_count": 21,
      "outputs": []
    },
    {
      "cell_type": "code",
      "source": [
        "from qiskit.circuit.library import ZZFeatureMap\n",
        "\n",
        "feature_map = ZZFeatureMap(feature_dimension=7,reps=2)\n",
        "\n",
        "# feature_map.decompose().draw(output=\"mpl\")"
      ],
      "metadata": {
        "id": "Dyrshku3Q-VB"
      },
      "execution_count": 25,
      "outputs": []
    },
    {
      "cell_type": "code",
      "source": [
        "# from qiskit import BasicAer\n",
        "# from qiskit.utils import QuantumInstance\n",
        "from qiskit_machine_learning.kernels import *\n",
        "from qiskit_machine_learning.algorithms import *"
      ],
      "metadata": {
        "id": "3mG_SPAKRA0z"
      },
      "execution_count": 26,
      "outputs": []
    },
    {
      "cell_type": "code",
      "source": [
        "from qiskit.circuit.library import RealAmplitudes\n",
        "\n",
        "ansatz = RealAmplitudes(num_qubits=7, reps=2)\n",
        "# ansatz.decompose().draw(output=\"mpl\", style=\"clifford\", fold=20)"
      ],
      "metadata": {
        "id": "au2e7YbHCGhZ"
      },
      "execution_count": 32,
      "outputs": []
    },
    {
      "cell_type": "code",
      "source": [
        "from IPython.display import clear_output\n",
        "objective_func_vals = []\n",
        "plt.rcParams[\"figure.figsize\"] = (12, 6)\n",
        "\n",
        "\n",
        "def callback_graph(weights, obj_func_eval):\n",
        "    clear_output(wait=True)\n",
        "    objective_func_vals.append(obj_func_eval)\n",
        "    plt.title(\"Objective function value against iteration\")\n",
        "    plt.xlabel(\"Iteration\")\n",
        "    plt.ylabel(\"Objective function value\")\n",
        "    plt.plot(range(len(objective_func_vals)), objective_func_vals)\n",
        "    plt.show()"
      ],
      "metadata": {
        "id": "ouO4eUfoCLQF"
      },
      "execution_count": 33,
      "outputs": []
    },
    {
      "cell_type": "code",
      "source": [
        "from qiskit_algorithms.optimizers import COBYLA\n",
        "\n",
        "optimizer = COBYLA(maxiter=100)\n",
        "\n",
        "from qiskit.primitives import Sampler\n",
        "\n",
        "sampler = Sampler()"
      ],
      "metadata": {
        "id": "GAV18VdqCL_0"
      },
      "execution_count": 34,
      "outputs": []
    },
    {
      "cell_type": "code",
      "source": [
        "import time\n",
        "from qiskit_machine_learning.algorithms.classifiers import VQC\n",
        "\n",
        "vqc = VQC(\n",
        "    sampler=sampler,\n",
        "    feature_map=feature_map,\n",
        "    ansatz=ansatz,\n",
        "    optimizer=optimizer,\n",
        "    callback=callback_graph,\n",
        ")\n",
        "\n"
      ],
      "metadata": {
        "id": "uFSWmYaYCPE2"
      },
      "execution_count": 35,
      "outputs": []
    },
    {
      "cell_type": "code",
      "source": [
        "# clear objective value history\n",
        "objective_func_vals = []\n",
        "\n",
        "start = time.time()\n",
        "vqc.fit(X_train_scaled,y_train)\n",
        "elapsed = time.time() - start\n",
        "\n",
        "print(f\"Training time: {round(elapsed)} seconds\")"
      ],
      "metadata": {
        "colab": {
          "base_uri": "https://localhost:8080/",
          "height": 582
        },
        "id": "RFwPniU6CR6R",
        "outputId": "d84d24e4-e485-45ed-fbf1-ce6db5b75c7b"
      },
      "execution_count": 36,
      "outputs": [
        {
          "output_type": "display_data",
          "data": {
            "text/plain": [
              "<Figure size 1200x600 with 1 Axes>"
            ],
            "image/png": "[encoded data removed]"
          },
          "metadata": {}
        },
        {
          "output_type": "stream",
          "name": "stdout",
          "text": [
            "Training time: 606 seconds\n"
          ]
        }
      ]
    },
    {
      "cell_type": "code",
      "source": [
        "train_score_q4 = vqc.score(X_train_scaled, y_train)\n",
        "test_score_q4 = vqc.score(X_test_scaled, y_test)\n",
        "\n",
        "print(f\"Quantum VQC on the training dataset: {train_score_q4:.2f}\")\n",
        "print(f\"Quantum VQC on the test dataset:     {test_score_q4:.2f}\")"
      ],
      "metadata": {
        "colab": {
          "base_uri": "https://localhost:8080/"
        },
        "id": "T7spxmq5FZxU",
        "outputId": "170af3db-bea4-4789-c47f-c6f313130afd"
      },
      "execution_count": 37,
      "outputs": [
        {
          "output_type": "stream",
          "name": "stdout",
          "text": [
            "Quantum VQC on the training dataset: 0.61\n",
            "Quantum VQC on the test dataset:     0.62\n"
          ]
        }
      ]
    },
    {
      "cell_type": "code",
      "source": [
        "qkernel = FidelityQuantumKernel(feature_map=feature_map)\n"
      ],
      "metadata": {
        "id": "6MonOL8fThYE"
      },
      "execution_count": 40,
      "outputs": []
    },
    {
      "cell_type": "code",
      "source": [
        "from qiskit_machine_learning.algorithms import PegasosQSVC\n",
        "\n",
        "tau = 100\n",
        "\n",
        "# regularization parameter\n",
        "C = 100"
      ],
      "metadata": {
        "id": "Awo67rIF3Y6L"
      },
      "execution_count": 41,
      "outputs": []
    },
    {
      "cell_type": "code",
      "source": [
        "pegasos_qsvc = PegasosQSVC(quantum_kernel=qkernel, C=C, num_steps=tau)\n",
        "\n",
        "# training\n",
        "pegasos_qsvc.fit(X_train_scaled, y_train)\n"
      ],
      "metadata": {
        "colab": {
          "base_uri": "https://localhost:8080/"
        },
        "id": "lsj9W7WH3dOt",
        "outputId": "e14609c5-50cf-4e3e-8d51-3414180b8d09"
      },
      "execution_count": 42,
      "outputs": [
        {
          "output_type": "execute_result",
          "data": {
            "text/plain": [
              "<qiskit_machine_learning.algorithms.classifiers.pegasos_qsvc.PegasosQSVC at 0x7d16770419c0>"
            ]
          },
          "metadata": {},
          "execution_count": 42
        }
      ]
    },
    {
      "cell_type": "code",
      "source": [
        "pegasos_score = pegasos_qsvc.score(X_test_scaled, y_test)\n",
        "print(f\"PegasosQSVC classification test score: {pegasos_score}\")"
      ],
      "metadata": {
        "colab": {
          "base_uri": "https://localhost:8080/"
        },
        "id": "0V3i4uVJ3h8r",
        "outputId": "bb5ed8ca-e00d-475e-b747-7a1b380e9f5d"
      },
      "execution_count": 43,
      "outputs": [
        {
          "output_type": "stream",
          "name": "stdout",
          "text": [
            "PegasosQSVC classification test score: 0.46\n"
          ]
        }
      ]
    },
    {
      "cell_type": "code",
      "source": [],
      "metadata": {
        "id": "V7GMmK4WF4oA"
      },
      "execution_count": null,
      "outputs": []
    }
  ]
}