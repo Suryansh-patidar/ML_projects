{
 "cells": [
  {
   "cell_type": "code",
   "execution_count": 1,
   "metadata": {},
   "outputs": [],
   "source": [
    "import numpy as np\n",
    "import pandas as pd\n",
    "import matplotlib.pyplot as plt\n"
   ]
  },
  {
   "cell_type": "code",
   "execution_count": 10,
   "metadata": {},
   "outputs": [
    {
     "data": {
      "text/html": [
       "<div>\n",
       "<style scoped>\n",
       "    .dataframe tbody tr th:only-of-type {\n",
       "        vertical-align: middle;\n",
       "    }\n",
       "\n",
       "    .dataframe tbody tr th {\n",
       "        vertical-align: top;\n",
       "    }\n",
       "\n",
       "    .dataframe thead th {\n",
       "        text-align: right;\n",
       "    }\n",
       "</style>\n",
       "<table border=\"1\" class=\"dataframe\">\n",
       "  <thead>\n",
       "    <tr style=\"text-align: right;\">\n",
       "      <th></th>\n",
       "      <th>sequence</th>\n",
       "      <th>class</th>\n",
       "    </tr>\n",
       "  </thead>\n",
       "  <tbody>\n",
       "    <tr>\n",
       "      <th>0</th>\n",
       "      <td>ATGCCCCAACTAAATACCGCCGTATGACCCACCATAATTACCCCCA...</td>\n",
       "      <td>4</td>\n",
       "    </tr>\n",
       "    <tr>\n",
       "      <th>1</th>\n",
       "      <td>ATGAACGAAAATCTATTCGCTTCATTCGCTGCCCCCACAATCCTAG...</td>\n",
       "      <td>4</td>\n",
       "    </tr>\n",
       "    <tr>\n",
       "      <th>2</th>\n",
       "      <td>ATGGCCTCGCGCTGGTGGCGGTGGCGACGCGGCTGCTCCTGGAGGC...</td>\n",
       "      <td>4</td>\n",
       "    </tr>\n",
       "    <tr>\n",
       "      <th>3</th>\n",
       "      <td>ATGGCCTCGCGCTGGTGGCGGTGGCGACGCGGCTGCTCCTGGAGGC...</td>\n",
       "      <td>4</td>\n",
       "    </tr>\n",
       "    <tr>\n",
       "      <th>4</th>\n",
       "      <td>ATGGGCAGCGCCAGCCCGGGTCTGAGCAGCGTGTCCCCCAGCCACC...</td>\n",
       "      <td>6</td>\n",
       "    </tr>\n",
       "    <tr>\n",
       "      <th>...</th>\n",
       "      <td>...</td>\n",
       "      <td>...</td>\n",
       "    </tr>\n",
       "    <tr>\n",
       "      <th>1677</th>\n",
       "      <td>ATGCTGAGCGGAGCGGCTGGGGCTGCGCGGCGTGGCGGAGCAGCGC...</td>\n",
       "      <td>5</td>\n",
       "    </tr>\n",
       "    <tr>\n",
       "      <th>1678</th>\n",
       "      <td>ATGCTGAGCGGAGCGGCTGGGGCTGCGCGGCGTGGCGGAGCAGCGC...</td>\n",
       "      <td>5</td>\n",
       "    </tr>\n",
       "    <tr>\n",
       "      <th>1679</th>\n",
       "      <td>ATGAAGCGACCCAAGGAGCCGAGCGGCTCCGACGGGGAGTCCGACG...</td>\n",
       "      <td>6</td>\n",
       "    </tr>\n",
       "    <tr>\n",
       "      <th>1680</th>\n",
       "      <td>ATGACTGGAACCCCAAAGACTCAAGAAGGAGCTAAAGATCTTGAAG...</td>\n",
       "      <td>3</td>\n",
       "    </tr>\n",
       "    <tr>\n",
       "      <th>1681</th>\n",
       "      <td>ATGTTGCCCAGCTGTGGCAAGATCTTGACTGGGTGTAAGAATATGC...</td>\n",
       "      <td>3</td>\n",
       "    </tr>\n",
       "  </tbody>\n",
       "</table>\n",
       "<p>1682 rows × 2 columns</p>\n",
       "</div>"
      ],
      "text/plain": [
       "                                               sequence  class\n",
       "0     ATGCCCCAACTAAATACCGCCGTATGACCCACCATAATTACCCCCA...      4\n",
       "1     ATGAACGAAAATCTATTCGCTTCATTCGCTGCCCCCACAATCCTAG...      4\n",
       "2     ATGGCCTCGCGCTGGTGGCGGTGGCGACGCGGCTGCTCCTGGAGGC...      4\n",
       "3     ATGGCCTCGCGCTGGTGGCGGTGGCGACGCGGCTGCTCCTGGAGGC...      4\n",
       "4     ATGGGCAGCGCCAGCCCGGGTCTGAGCAGCGTGTCCCCCAGCCACC...      6\n",
       "...                                                 ...    ...\n",
       "1677  ATGCTGAGCGGAGCGGCTGGGGCTGCGCGGCGTGGCGGAGCAGCGC...      5\n",
       "1678  ATGCTGAGCGGAGCGGCTGGGGCTGCGCGGCGTGGCGGAGCAGCGC...      5\n",
       "1679  ATGAAGCGACCCAAGGAGCCGAGCGGCTCCGACGGGGAGTCCGACG...      6\n",
       "1680  ATGACTGGAACCCCAAAGACTCAAGAAGGAGCTAAAGATCTTGAAG...      3\n",
       "1681  ATGTTGCCCAGCTGTGGCAAGATCTTGACTGGGTGTAAGAATATGC...      3\n",
       "\n",
       "[1682 rows x 2 columns]"
      ]
     },
     "execution_count": 10,
     "metadata": {},
     "output_type": "execute_result"
    }
   ],
   "source": [
    "df = pd.read_table('chimp_data.txt')\n",
    "df"
   ]
  },
  {
   "cell_type": "code",
   "execution_count": 119,
   "metadata": {},
   "outputs": [],
   "source": [
    "def Kmers(seq,size=5):\n",
    "    return [seq[x:x+size].lower() for x in range(len(seq) - size + 1)]"
   ]
  },
  {
   "cell_type": "code",
   "execution_count": 120,
   "metadata": {},
   "outputs": [],
   "source": [
    "df['words'] = df.apply(lambda x: Kmers(x['sequence']), axis=1)"
   ]
  },
  {
   "cell_type": "code",
   "execution_count": 121,
   "metadata": {},
   "outputs": [
    {
     "data": {
      "text/html": [
       "<div>\n",
       "<style scoped>\n",
       "    .dataframe tbody tr th:only-of-type {\n",
       "        vertical-align: middle;\n",
       "    }\n",
       "\n",
       "    .dataframe tbody tr th {\n",
       "        vertical-align: top;\n",
       "    }\n",
       "\n",
       "    .dataframe thead th {\n",
       "        text-align: right;\n",
       "    }\n",
       "</style>\n",
       "<table border=\"1\" class=\"dataframe\">\n",
       "  <thead>\n",
       "    <tr style=\"text-align: right;\">\n",
       "      <th></th>\n",
       "      <th>index</th>\n",
       "      <th>sequence</th>\n",
       "      <th>class</th>\n",
       "      <th>words</th>\n",
       "    </tr>\n",
       "  </thead>\n",
       "  <tbody>\n",
       "    <tr>\n",
       "      <th>0</th>\n",
       "      <td>697</td>\n",
       "      <td>ATGTATTGTGCTTATCCTGTCCCTGGAATGGGCAGCAATTCTTTGA...</td>\n",
       "      <td>6</td>\n",
       "      <td>[atgta, tgtat, gtatt, tattg, attgt, ttgtg, tgt...</td>\n",
       "    </tr>\n",
       "    <tr>\n",
       "      <th>1</th>\n",
       "      <td>297</td>\n",
       "      <td>ATGGAACAATCTAATGATTCATTAAGAGTCAACCATAATGACGGTG...</td>\n",
       "      <td>6</td>\n",
       "      <td>[atgga, tggaa, ggaac, gaaca, aacaa, acaat, caa...</td>\n",
       "    </tr>\n",
       "    <tr>\n",
       "      <th>2</th>\n",
       "      <td>997</td>\n",
       "      <td>ATGGCCTGCCTCAACCCGGTGCCTAAACTCTACAGATCTGTAATTG...</td>\n",
       "      <td>6</td>\n",
       "      <td>[atggc, tggcc, ggcct, gcctg, cctgc, ctgcc, tgc...</td>\n",
       "    </tr>\n",
       "    <tr>\n",
       "      <th>3</th>\n",
       "      <td>1128</td>\n",
       "      <td>ATGGACCCGGCTGCGCGGGTGGTGCGGGCGCTGTGGCCTGGTGGGT...</td>\n",
       "      <td>4</td>\n",
       "      <td>[atgga, tggac, ggacc, gaccc, acccg, cccgg, ccg...</td>\n",
       "    </tr>\n",
       "    <tr>\n",
       "      <th>4</th>\n",
       "      <td>1280</td>\n",
       "      <td>ATGGAGTATTTCATGGTGCCCACTCAGAAGGTGCCCTCTTTGCAAC...</td>\n",
       "      <td>6</td>\n",
       "      <td>[atgga, tggag, ggagt, gagta, agtat, gtatt, tat...</td>\n",
       "    </tr>\n",
       "    <tr>\n",
       "      <th>...</th>\n",
       "      <td>...</td>\n",
       "      <td>...</td>\n",
       "      <td>...</td>\n",
       "      <td>...</td>\n",
       "    </tr>\n",
       "    <tr>\n",
       "      <th>1677</th>\n",
       "      <td>1657</td>\n",
       "      <td>AGGGACATATCAATGCAAAGAAATGGAAGCATCGTTGCTGGGTATG...</td>\n",
       "      <td>0</td>\n",
       "      <td>[aggga, gggac, ggaca, gacat, acata, catat, ata...</td>\n",
       "    </tr>\n",
       "    <tr>\n",
       "      <th>1678</th>\n",
       "      <td>256</td>\n",
       "      <td>ATGGGCTTCTCTTCCGAGCTGTGCAGCCCCCAGGGCCACGGGGTCC...</td>\n",
       "      <td>1</td>\n",
       "      <td>[atggg, tgggc, gggct, ggctt, gcttc, cttct, ttc...</td>\n",
       "    </tr>\n",
       "    <tr>\n",
       "      <th>1679</th>\n",
       "      <td>25</td>\n",
       "      <td>ATGAACAACAACACAACATGTATTCAACCATCTATGATCTCTTCCA...</td>\n",
       "      <td>0</td>\n",
       "      <td>[atgaa, tgaac, gaaca, aacaa, acaac, caaca, aac...</td>\n",
       "    </tr>\n",
       "    <tr>\n",
       "      <th>1680</th>\n",
       "      <td>1448</td>\n",
       "      <td>ATGAGCCGGAGTCTCTTGCTCCGGTTCTTGCTGTTCCTGCTCCTGC...</td>\n",
       "      <td>4</td>\n",
       "      <td>[atgag, tgagc, gagcc, agccg, gccgg, ccgga, cgg...</td>\n",
       "    </tr>\n",
       "    <tr>\n",
       "      <th>1681</th>\n",
       "      <td>1431</td>\n",
       "      <td>TTTGCTCTTGCTTTTCCTCTAGTTTTATTCCCATTTCCATTCTGGC...</td>\n",
       "      <td>2</td>\n",
       "      <td>[tttgc, ttgct, tgctc, gctct, ctctt, tcttg, ctt...</td>\n",
       "    </tr>\n",
       "  </tbody>\n",
       "</table>\n",
       "<p>1682 rows × 4 columns</p>\n",
       "</div>"
      ],
      "text/plain": [
       "      index                                           sequence  class  \\\n",
       "0       697  ATGTATTGTGCTTATCCTGTCCCTGGAATGGGCAGCAATTCTTTGA...      6   \n",
       "1       297  ATGGAACAATCTAATGATTCATTAAGAGTCAACCATAATGACGGTG...      6   \n",
       "2       997  ATGGCCTGCCTCAACCCGGTGCCTAAACTCTACAGATCTGTAATTG...      6   \n",
       "3      1128  ATGGACCCGGCTGCGCGGGTGGTGCGGGCGCTGTGGCCTGGTGGGT...      4   \n",
       "4      1280  ATGGAGTATTTCATGGTGCCCACTCAGAAGGTGCCCTCTTTGCAAC...      6   \n",
       "...     ...                                                ...    ...   \n",
       "1677   1657  AGGGACATATCAATGCAAAGAAATGGAAGCATCGTTGCTGGGTATG...      0   \n",
       "1678    256  ATGGGCTTCTCTTCCGAGCTGTGCAGCCCCCAGGGCCACGGGGTCC...      1   \n",
       "1679     25  ATGAACAACAACACAACATGTATTCAACCATCTATGATCTCTTCCA...      0   \n",
       "1680   1448  ATGAGCCGGAGTCTCTTGCTCCGGTTCTTGCTGTTCCTGCTCCTGC...      4   \n",
       "1681   1431  TTTGCTCTTGCTTTTCCTCTAGTTTTATTCCCATTTCCATTCTGGC...      2   \n",
       "\n",
       "                                                  words  \n",
       "0     [atgta, tgtat, gtatt, tattg, attgt, ttgtg, tgt...  \n",
       "1     [atgga, tggaa, ggaac, gaaca, aacaa, acaat, caa...  \n",
       "2     [atggc, tggcc, ggcct, gcctg, cctgc, ctgcc, tgc...  \n",
       "3     [atgga, tggac, ggacc, gaccc, acccg, cccgg, ccg...  \n",
       "4     [atgga, tggag, ggagt, gagta, agtat, gtatt, tat...  \n",
       "...                                                 ...  \n",
       "1677  [aggga, gggac, ggaca, gacat, acata, catat, ata...  \n",
       "1678  [atggg, tgggc, gggct, ggctt, gcttc, cttct, ttc...  \n",
       "1679  [atgaa, tgaac, gaaca, aacaa, acaac, caaca, aac...  \n",
       "1680  [atgag, tgagc, gagcc, agccg, gccgg, ccgga, cgg...  \n",
       "1681  [tttgc, ttgct, tgctc, gctct, ctctt, tcttg, ctt...  \n",
       "\n",
       "[1682 rows x 4 columns]"
      ]
     },
     "execution_count": 121,
     "metadata": {},
     "output_type": "execute_result"
    }
   ],
   "source": [
    "df"
   ]
  },
  {
   "cell_type": "code",
   "execution_count": 122,
   "metadata": {},
   "outputs": [
    {
     "data": {
      "text/html": [
       "<div>\n",
       "<style scoped>\n",
       "    .dataframe tbody tr th:only-of-type {\n",
       "        vertical-align: middle;\n",
       "    }\n",
       "\n",
       "    .dataframe tbody tr th {\n",
       "        vertical-align: top;\n",
       "    }\n",
       "\n",
       "    .dataframe thead th {\n",
       "        text-align: right;\n",
       "    }\n",
       "</style>\n",
       "<table border=\"1\" class=\"dataframe\">\n",
       "  <thead>\n",
       "    <tr style=\"text-align: right;\">\n",
       "      <th></th>\n",
       "      <th>level_0</th>\n",
       "      <th>index</th>\n",
       "      <th>sequence</th>\n",
       "      <th>class</th>\n",
       "      <th>words</th>\n",
       "    </tr>\n",
       "  </thead>\n",
       "  <tbody>\n",
       "    <tr>\n",
       "      <th>0</th>\n",
       "      <td>885</td>\n",
       "      <td>1572</td>\n",
       "      <td>ATGAACCAGCCGCAGAGGATGGCGCCTGTGGGCACAGACAAGGAGC...</td>\n",
       "      <td>6</td>\n",
       "      <td>[atgaa, tgaac, gaacc, aacca, accag, ccagc, cag...</td>\n",
       "    </tr>\n",
       "    <tr>\n",
       "      <th>1</th>\n",
       "      <td>1004</td>\n",
       "      <td>267</td>\n",
       "      <td>ATGAGAGACTCTACAGGGGCAGGTAATTCACTGGTCCACAAGCGGT...</td>\n",
       "      <td>6</td>\n",
       "      <td>[atgag, tgaga, gagag, agaga, gagac, agact, gac...</td>\n",
       "    </tr>\n",
       "    <tr>\n",
       "      <th>2</th>\n",
       "      <td>420</td>\n",
       "      <td>309</td>\n",
       "      <td>ATGGCGGCGGCGGCGGACGAGCGGAGTCCAGAGGACGGAGAAGACG...</td>\n",
       "      <td>6</td>\n",
       "      <td>[atggc, tggcg, ggcgg, gcggc, cggcg, ggcgg, gcg...</td>\n",
       "    </tr>\n",
       "    <tr>\n",
       "      <th>3</th>\n",
       "      <td>971</td>\n",
       "      <td>357</td>\n",
       "      <td>ATGGGGCTGGTAAGCAGCAAAAAGCCGGACAAGGAAAAGCCGATCA...</td>\n",
       "      <td>1</td>\n",
       "      <td>[atggg, tgggg, ggggc, gggct, ggctg, gctgg, ctg...</td>\n",
       "    </tr>\n",
       "    <tr>\n",
       "      <th>4</th>\n",
       "      <td>314</td>\n",
       "      <td>1534</td>\n",
       "      <td>ATGGCGGCCGCTCGTGTAGCTTTGGGGCCATTGGTGACGGGTCTGT...</td>\n",
       "      <td>3</td>\n",
       "      <td>[atggc, tggcg, ggcgg, gcggc, cggcc, ggccg, gcc...</td>\n",
       "    </tr>\n",
       "    <tr>\n",
       "      <th>...</th>\n",
       "      <td>...</td>\n",
       "      <td>...</td>\n",
       "      <td>...</td>\n",
       "      <td>...</td>\n",
       "      <td>...</td>\n",
       "    </tr>\n",
       "    <tr>\n",
       "      <th>1677</th>\n",
       "      <td>1571</td>\n",
       "      <td>1037</td>\n",
       "      <td>ATGAAGTACATCCTGGTCACGGGTGGGGTCATCTCAGGCATTGGTA...</td>\n",
       "      <td>4</td>\n",
       "      <td>[atgaa, tgaag, gaagt, aagta, agtac, gtaca, tac...</td>\n",
       "    </tr>\n",
       "    <tr>\n",
       "      <th>1678</th>\n",
       "      <td>303</td>\n",
       "      <td>1533</td>\n",
       "      <td>ATGAATGCTGTGGGAAGTCCTGAGGGGCAGGAGTTGCAAAACCTGG...</td>\n",
       "      <td>5</td>\n",
       "      <td>[atgaa, tgaat, gaatg, aatgc, atgct, tgctg, gct...</td>\n",
       "    </tr>\n",
       "    <tr>\n",
       "      <th>1679</th>\n",
       "      <td>611</td>\n",
       "      <td>837</td>\n",
       "      <td>ATGCGGTGGCTGTGGCCCCTGGCTGTCTCTCTTGCTGTGATTTTGG...</td>\n",
       "      <td>0</td>\n",
       "      <td>[atgcg, tgcgg, gcggt, cggtg, ggtgg, gtggc, tgg...</td>\n",
       "    </tr>\n",
       "    <tr>\n",
       "      <th>1680</th>\n",
       "      <td>641</td>\n",
       "      <td>234</td>\n",
       "      <td>ATGAGGACACCAAGGCTTAGAGCACAGCCCCGAGGCGCCGTCTACC...</td>\n",
       "      <td>4</td>\n",
       "      <td>[atgag, tgagg, gagga, aggac, ggaca, gacac, aca...</td>\n",
       "    </tr>\n",
       "    <tr>\n",
       "      <th>1681</th>\n",
       "      <td>1570</td>\n",
       "      <td>432</td>\n",
       "      <td>ATGGTGGACATGGGGGCCCTGGACAACCTGATCGCCAACACCGCCT...</td>\n",
       "      <td>0</td>\n",
       "      <td>[atggt, tggtg, ggtgg, gtgga, tggac, ggaca, gac...</td>\n",
       "    </tr>\n",
       "  </tbody>\n",
       "</table>\n",
       "<p>1682 rows × 5 columns</p>\n",
       "</div>"
      ],
      "text/plain": [
       "      level_0  index                                           sequence  \\\n",
       "0         885   1572  ATGAACCAGCCGCAGAGGATGGCGCCTGTGGGCACAGACAAGGAGC...   \n",
       "1        1004    267  ATGAGAGACTCTACAGGGGCAGGTAATTCACTGGTCCACAAGCGGT...   \n",
       "2         420    309  ATGGCGGCGGCGGCGGACGAGCGGAGTCCAGAGGACGGAGAAGACG...   \n",
       "3         971    357  ATGGGGCTGGTAAGCAGCAAAAAGCCGGACAAGGAAAAGCCGATCA...   \n",
       "4         314   1534  ATGGCGGCCGCTCGTGTAGCTTTGGGGCCATTGGTGACGGGTCTGT...   \n",
       "...       ...    ...                                                ...   \n",
       "1677     1571   1037  ATGAAGTACATCCTGGTCACGGGTGGGGTCATCTCAGGCATTGGTA...   \n",
       "1678      303   1533  ATGAATGCTGTGGGAAGTCCTGAGGGGCAGGAGTTGCAAAACCTGG...   \n",
       "1679      611    837  ATGCGGTGGCTGTGGCCCCTGGCTGTCTCTCTTGCTGTGATTTTGG...   \n",
       "1680      641    234  ATGAGGACACCAAGGCTTAGAGCACAGCCCCGAGGCGCCGTCTACC...   \n",
       "1681     1570    432  ATGGTGGACATGGGGGCCCTGGACAACCTGATCGCCAACACCGCCT...   \n",
       "\n",
       "      class                                              words  \n",
       "0         6  [atgaa, tgaac, gaacc, aacca, accag, ccagc, cag...  \n",
       "1         6  [atgag, tgaga, gagag, agaga, gagac, agact, gac...  \n",
       "2         6  [atggc, tggcg, ggcgg, gcggc, cggcg, ggcgg, gcg...  \n",
       "3         1  [atggg, tgggg, ggggc, gggct, ggctg, gctgg, ctg...  \n",
       "4         3  [atggc, tggcg, ggcgg, gcggc, cggcc, ggccg, gcc...  \n",
       "...     ...                                                ...  \n",
       "1677      4  [atgaa, tgaag, gaagt, aagta, agtac, gtaca, tac...  \n",
       "1678      5  [atgaa, tgaat, gaatg, aatgc, atgct, tgctg, gct...  \n",
       "1679      0  [atgcg, tgcgg, gcggt, cggtg, ggtgg, gtggc, tgg...  \n",
       "1680      4  [atgag, tgagg, gagga, aggac, ggaca, gacac, aca...  \n",
       "1681      0  [atggt, tggtg, ggtgg, gtgga, tggac, ggaca, gac...  \n",
       "\n",
       "[1682 rows x 5 columns]"
      ]
     },
     "execution_count": 122,
     "metadata": {},
     "output_type": "execute_result"
    }
   ],
   "source": [
    "df = df.sample(frac=1).reset_index(drop=False)\n",
    "df"
   ]
  },
  {
   "cell_type": "code",
   "execution_count": 123,
   "metadata": {},
   "outputs": [],
   "source": [
    "chimp_text = list(df['words'])\n",
    "for i in range(len(chimp_text)):\n",
    "    chimp_text[i] = \" \".join(chimp_text[i])\n",
    "\n",
    "label = df['class'].values"
   ]
  },
  {
   "cell_type": "code",
   "execution_count": 124,
   "metadata": {},
   "outputs": [
    {
     "data": {
      "text/plain": [
       "array([6, 6, 6, ..., 0, 4, 0], dtype=int64)"
      ]
     },
     "execution_count": 124,
     "metadata": {},
     "output_type": "execute_result"
    }
   ],
   "source": [
    "label"
   ]
  },
  {
   "cell_type": "code",
   "execution_count": 125,
   "metadata": {},
   "outputs": [
    {
     "data": {
      "text/plain": [
       "'atgaa tgaac gaacc aacca accag ccagc cagcc agccg gccgc ccgca cgcag gcaga cagag agagg gagga aggat ggatg gatgg atggc tggcg ggcgc gcgcc cgcct gcctg cctgt ctgtg tgtgg gtggg tgggc gggca ggcac gcaca cacag acaga cagac agaca gacaa acaag caagg aagga aggag ggagc gagct agctc gctca ctcag tcagt cagtg agtga gtgac tgacc gacct acctc cctcc ctcct tcctg cctgg ctgga tggac ggact gactt acttc cttca ttcag tcagc cagca agcat gcatg catga atgat tgatg gatgt atgtt tgttc gttcc ttccc tcccg cccgc ccgct cgctg gctgc ctgcc tgcct gcctg cctgt ctgtc tgtca gtcac tcacc cacca accaa ccaac caacg aacgg acggg cggga gggaa ggaag gaagg aaggg agggc gggcc ggccg gccgg ccggc cggcc ggccc gcccg cccgc ccgcc cgcct gcctc cctcc ctccc tccct ccctg cctgg ctggc tggcc ggccg gccgg ccggg cgggg ggggc gggcg ggcgc gcgca cgcag gcagt cagtt agttc gttcg ttcgg tcgga cggag ggagg gaggt aggtt ggttc gttca ttcag tcagg caggt aggtc ggtct gtctt tcttg cttga ttgag tgagg gagga aggac ggacc gaccg accgg ccggc cggcc ggccc gccca cccag ccagc cagct agctc gctca ctcag tcagg caggc aggct ggctc gctcc ctcct tcctg cctgg ctggg tgggg ggggc gggca ggcag gcagc cagcg agcgg gcggc cggcg ggcga gcgac cgacc gacca accag ccaga cagag agagc gagca agcag gcagc cagct agctc gctcc ctcct tcctc cctcc ctcct tcctt ccttt ctttg tttga ttgac tgacc gaccc acccc cccca cccag ccagc cagcc agccg gccgg ccgga cggac ggacc gacct acctt ccttc cttca ttcag tcagc cagcg agcga gcgag cgagg gaggg agggc gggca ggcac gcacc caccc accca cccac ccact cactt acttc cttca ttcac tcact cactg actga ctgag tgagt gagtc agtcg gtcgc tcgca cgcac gcaca cacag acagc cagca agcag gcagc cagcc agcct gcctc cctct ctctc tctct ctctt tcttc cttca ttcat tcatc catcc atcca tccac ccaca cacat acatt cattc attcc ttcct tcctg cctgg ctggg tggga gggac ggacc gaccg accgg ccggg cggga gggac ggact gactc actcg ctcgg tcgga cggag ggagg gaggc aggca ggcaa gcaag caaga aagag agagc gagcg agcgg gcggt cggtg ggtga gtgag tgagc gagcg agcgg gcggg cgggg ggggc gggcg ggcgc gcgcc cgcct gccta cctat ctatg tatgc atgcc tgcct gcctc cctcc ctcct tcctt ccttc cttcg ttcgg tcggg cggga gggag ggaga gagag agaga gagac agacg gacgc acgca cgcag gcagg caggc aggcg ggcgt gcgtg cgtgg gtggg tgggc gggcg ggcgg gcggt cggtc ggtct gtctg tctga ctgac tgact gactc actca ctcag tcagg caggc aggct ggctg gctgg ctggc tggct ggctt gcttc cttcc ttcct tcctg cctgt ctgtc tgtca gtcag tcagg caggc aggcg ggcga gcgag cgagc gagct agctg gctgg ctggc tggcc ggccc gccct ccctc cctca ctcag tcagc cagca agcag gcagc cagcc agccc gcccc ccccg cccgg ccggg cgggc gggcc ggccc gcccc cccct ccctg cctgt ctgtc tgtcc gtccc tcccc cccct ccctt ccttc cttcg ttcgg tcggg cgggc gggca ggcat gcatg catga atgaa tgaag gaagg aaggg agggg gggga gggac ggacc gacct acctc cctcc ctccc tccca cccag ccagt cagta agtac gtact tacta actac ctacc taccc acccc cccct ccctc cctcc ctcct tccta cctac ctact tactc actcc ctccg tccgg ccggc cggca ggcag gcagc cagct agctc gctcc ctccc tcccg cccgg ccggc cggcg ggcgg gcgga cggag ggaga gagag agagc gagcg agcgg gcggc cggca ggcag gcaga cagac agacg gacgg acggc cggca ggcag gcagc cagcc agcct gccta cctag ctaga tagac agaca gacac acacg cacgc acgca cgcag gcagc cagcc agccc gccca cccaa ccaag caaga aagaa agaag gaagg aaggt aggtc ggtcc gtccg tccgg ccgga cggaa ggaag gaagg aaggt aggtc ggtcc gtccc tcccg cccgc ccgcc cgccg gccgg ccggg cgggt gggtc ggtct gtctt tcttc cttcc ttcca tccat ccatc catcc atcct tcctc cctcg ctcgg tcggt cggtg ggtgt gtgta tgtac gtacc taccc acccg cccgc ccgcc cgccc gccca cccag ccagc cagct agctc gctca ctcag tcagg caggt aggtg ggtga gtgag tgagg gagga aggac ggact gacta actac ctacg tacgg acggc cggca ggcag gcagg caggg aggga gggat ggatg gatgc atgcc tgccg gccgc ccgcc cgccg gccgc ccgcc cgcct gccta cctac ctacc taccc acccg cccgt ccgtc cgtcc gtccg tccgc ccgcc cgcca gccaa ccaag caaga aagac agacc gaccc acccc ccccc cccca cccag ccagc cagca agcag gcagc cagca agcac gcacc cacct accta cctat ctatc tatcc atccc tcccg cccgc ccgcc cgccc gcccc ccccc cccct ccctt ccttc cttct ttcta tctat ctatg tatgt atgtg tgtgg gtggc tggca ggcag gcaga cagat agatg gatgg atggc tggca ggcag gcagc cagcc agcct gcctg cctgc ctgca tgcac gcacc caccc acccc cccct ccctc cctca ctcag tcagc cagct agctg gctga ctgag tgagc gagct agctc gctct ctctg tctgg ctgga tggag ggagt gagtc agtcc gtccc tcccc ccccc ccccg cccgg ccggg cgggc gggcc ggcca gccag ccagg caggt aggtg ggtgg gtggg tgggc gggct ggctt gcttc cttcg ttcgg tcggg cgggc gggcc ggcct gccta cctat ctatg tatgc atgct tgctg gctgg ctggg tgggt gggtg ggtgg gtggg tgggg ggggg ggggc gggct ggctc gctca ctcat tcatc catcc atccc tcccc cccca cccac ccact cactg actgc ctgcc tgccc gcccc cccct ccctc cctcc ctccc tcccg cccgc ccgcc cgccc gcccg cccgg ccggt cggta ggtag gtagc tagcg agcgg gcggc cggcc ggccc gcccg cccgg ccggt cggtg ggtgg gtggg tgggc gggca ggcag gcagc cagca agcag gcagt cagtg agtgg gtgga tggaa ggaag gaagc aagca agcag gcagc cagca agcag gcagc cagca agcac gcacg cacgt acgtt cgttt gtttg tttgg ttggt tggtg ggtgg gtggc tggcc ggcct gcctg cctgc ctgca tgcac gcacc cacca accag ccagc cagca agcac gcacg cacga acgag cgagc gagcg agcgc gcgca cgcat gcatg catgg atggg tgggc gggct ggcta gctac ctacc tacca accag ccagc cagct agctg gctgc ctgca tgcat gcatg catgg atgga tggag ggagc gagca agcag gcaga cagag agagg gaggt aggtg ggtga gtgaa tgaac gaacg aacgg acggt cggtg ggtgg gtggg tgggc gggct ggctc gctcc ctccc tccca cccat ccatc catct atctg tctgc ctgca tgcat gcatc catcc atcct tcctc cctcc ctcct tcctt ccttc cttct ttctc tctcc ctcct tcctc cctca ctcag tcagc cagcc agccc gcccc ccccc ccccg cccgg ccgga cggag ggagc gagcc agcca gccac ccacg cacgt acgta cgtac gtacg tacgg acggc cggcg ggcgg gcggc cggcg ggcgt gcgtc cgtct gtctc tctcc ctcca tccag ccagc cagcc agcca gccac ccaca cacac acacg cacgc acgcc cgccg gccgc ccgcc cgcct gcctg cctgt ctgtc tgtca gtcag tcagc cagcg agcgg gcggg cgggg ggggc gggct ggctg gctga ctgac tgaca gacag acagc cagcc agcct gcctc cctcc ctcct tcctg cctgg ctggg tgggc gggct ggctc gctcc ctccc tcccg cccga ccgag cgagg gaggg aggga gggac ggacc gacca accac ccaca cacag acagc cagct agctg gctgg ctggc tggca ggcag gcagc cagct agctc gctcc ctccg tccgg ccggg cgggg gggga gggat ggatg gatgc atgcc tgccc gccct ccctc cctcg ctcgg tcggc cggca ggcaa gcaaa caaag aaagc aagca agcac gcact cactg actgg ctggc tggcc ggcct gcctc cctcg ctcga tcgat cgatc gatct atcta tctac ctact tactc actcc ctccc tcccc ccccg cccgg ccgga cggat ggatc gatca atcac tcact cactc actca ctcaa tcaag caagc aagca agcaa gcaat caata aataa ataac taact aactt acttc cttct ttctc tctcg ctcgt tcgtc cgtcc gtcca tccag ccagc cagcc agccc gccct ccctt ccttc cttcc ttcca tccac ccacc caccc acccc cccct ccctg cctgt ctgtg tgtgg gtggg tgggc gggct ggctc gctcc ctccc tcccc ccccc ccccc cccca cccag ccagg caggg agggc gggcc ggcct gcctg cctgg ctggc tggca ggcag gcagg caggg aggga gggac ggaca gacat acatc catca atcac tcaca cacag acagt cagtg agtgg gtggc tggcc ggcct gcctc cctcg ctcga tcgag cgagc gagca agcag gcagg cagga aggag ggagc gagcc agccc gcccc ccccc ccccg cccgg ccggt cggtg ggtgc gtgcc tgcct gcctt cctta cttat ttatc tatcg atcgc tcgcc cgccc gccca cccag ccagc cagct agcta gctac ctacg tacga acgac cgacg gacgg acggg cgggg ggggg ggggt gggtc ggtct gtctc tctcc ctcca tccac ccacg cacgg acggc cggcc ggcct gcctg cctgc ctgca tgcag gcaga cagag agagt gagta agtaa gtaag taaga aagat agata gatag ataga tagaa agaag gaaga aagac agacc gacca accac ccacc cacct acctg cctgg ctgga tggac ggacg gacga acgag cgagg gaggc aggcc ggcca gccat ccatc catcc atcca tccat ccatg catgt atgtg tgtgc gtgct tgctc gctcc ctccg tccgc ccgca cgcag gcagc cagcc agcca gccac ccacg cacgc acgcc cgccg gccgt ccgtg cgtgg gtggg tgggc gggca ggcac gcaca cacag acagc cagcc agccg gccgg ccggc cggcg ggcga gcgac cgaca gacat acatg catgc atgca tgcac gcaca cacac acaca cacac acact cactg actgc ctgct tgctg gctgc ctgcc tgcct gcctg cctgg ctggc tggcc ggcca gccac ccacg cacgg acggg cgggg ggggc gggcg ggcgc gcgct cgctg gctgg ctggc tggcc ggcct gcctc cctca ctcag tcagg caggt aggtt ggttt gtttc tttca ttcac tcacc caccg accgg ccggc cggcc ggccc gcccc cccca cccat ccatg catgt atgtc tgtcg gtcgc tcgct cgctg gctgg ctggg tgggc gggcg ggcgg gcggg cgggc gggcg ggcgg gcggc cggca ggcac gcacg cacgc acgca cgcag gcagg caggc aggcc ggcct gcctg cctgg ctggt tggtt ggttg gttgg ttgga tggag ggagg gaggc aggca ggcag gcagc cagcc agcca gccac ccacc caccc acccc ccccg cccga ccgag cgagg gagga aggac ggacg gacgg acggc cggcc ggcct gcctc cctcg ctcgc tcgca cgcag gcagg caggc aggca ggcag gcagc cagca agcac gcacc cacca accag ccagc cagcc agcct gcctc cctca ctcat tcatg catgc atgca tgcac gcaca cacaa acaac caacc aacca accac ccacg cacgc acgcg cgcgg gcggc cggcc ggccc gccct ccctc cctcc ctccc tcccc cccca cccag ccagc cagcc agcca gccag ccagc cagcc agcca gccag ccagg caggc aggca ggcac gcacc caccc accct ccctc cctcc ctccc tccct ccctg cctga ctgac tgacc gacct acctg cctgt ctgtc tgtct gtctc tctcg ctcgg tcggc cggcc ggcct gcctc cctcc ctccc tcccg cccga ccgac cgact gactc actcc ctcct tccta cctac ctaca tacag acagt cagtg agtgg gtggg tgggc gggct ggcta gctag ctagg taggg agggc gggcg ggcga gcgag cgagc gagca agcag gcagg caggt aggtg ggtgc gtgcc tgcca gccac ccacg cacgg acggc cggcg ggcgg gcggc cggct ggctg gctgc ctgcc tgccg gccgg ccggc cggcg ggcga gcgag cgaga gagat agatc gatca atcaa tcaag caagc aagcg agcgg gcggg cggga gggag ggagg gagga aggag ggaga gagaa agaag gaagg aagga aggag ggagg gagga aggac ggacg gacga acgag cgagg gagga aggag ggaga gagaa agaac gaaca aacac acacg cacgt acgtc cgtca gtcag tcagc cagcg agcgg gcggc cggct ggctg gctga ctgac tgacc gacca accac ccact cactc actca ctcag tcaga cagag agagg gagga aggag ggagg gagga aggag ggaga gagaa agaag gaaga aagaa agaag gaagg aagga aggag ggagc gagct agctg gctga ctgaa tgaag gaagg aaggc aggcc ggccc gcccc ccccc ccccc ccccg cccgg ccggg cgggc gggcc ggccc gcccg cccgg ccgga cggac ggacc gacca accag ccagc cagca agcag gcagt cagta agtac gtacg tacgg acgga cggac ggacg gacga acgag cgagg gaggt aggtg ggtgc gtgct tgctg gctgt ctgtc tgtcc gtccc tccct ccctg cctgg ctgga tggag ggagg gagga aggag ggaga gagaa agaaa gaaag aaaga aagac agacc gacct acctg cctga ctgag tgagg gaggg aggga gggac ggacc gaccg accgg ccggg cggga gggag ggaga gagag agagg gaggc aggcg ggcgc gcgca cgcat gcatg catgg atggc tggcc ggcca gccaa ccaat caata aataa ataac taacg aacgc acgcg cgcgc gcgcg cgcgg gcggg cggga gggag ggagc gagcg agcgg gcggg cgggt gggtg ggtgc gtgcg tgcgc gcgcg cgcgt gcgtg cgtgc gtgcg tgcgg gcggg cggga gggat ggata gatat atatt tatta attaa ttaac taacg aacga acgag cgagg gaggc aggcc ggcct gcctt ccttc cttcc ttccg tccgg ccggg cggga gggag ggagc gagct agctg gctgg ctggg tgggg ggggc gggcg ggcgc gcgca cgcat gcatg catgt atgtg tgtgc gtgcc tgcca gccag ccaga cagat agatg gatgc atgca tgcac gcacc cacct acctc cctca ctcaa tcaag caagt aagtc agtcg gtcgg tcgga cggac ggaca gacaa acaaa caaag aaagc aagcg agcgc gcgca cgcag gcaga cagac agacc gacca accaa ccaag caagc aagct agctg gctgc ctgct tgctc gctca ctcat tcatc catcc atcct tcctg cctgc ctgca tgcag gcagc cagca agcag gcagg caggc aggcc ggccg gccgt ccgtg cgtgc gtgca tgcag gcagg caggt aggtc ggtca gtcat tcatc catcc atcct tcctg cctgg ctggg tgggg ggggc gggct ggctg gctgg ctgga tggag ggagc gagca agcag gcagc cagca agcag gcagg caggt aggtg ggtgc gtgcg tgcga gcgag cgaga gagag agagc gagcg agcgg gcgga cggaa ggaac gaacc aacct acctg cctga ctgaa tgaat gaatc aatcc atccc tccca cccaa ccaaa caaag aaagc aagca agcag gcagc cagcc agcct gcctg cctgt ctgtt tgttt gtttg tttga ttgaa tgaaa gaaac aaacg aacgg acggc cggcg ggcga gcgag cgaga gagaa agaag gaaga aagag agagg gagga aggaa ggaaa gaaaa aaaag aaagg aaggt aggtg ggtgt gtgtc tgtcg gtcgg tcggg cgggt gggtg ggtgt gtgtg tgtgg gtggt tggtt ggttg gttgg ttgga tggag ggaga gagac agacc gaccc acccc ccccc cccca cccag ccaga cagat agatg gatgg atggt tggtg ggtgc gtgct tgctt gcttt ctttc tttca ttcag tcagc cagct agctc gctcc ctccc tcccc cccca cccac ccacc caccc accca cccag ccagg caggc aggcc ggcct gcctg cctga ctgag tgagc gagcg agcga gcgaa cgaag gaagc aagcc agccc gccca cccac ccaca cacaa acaac caacc aaccc acccc cccca cccac ccacc caccg accgg ccggg cgggc gggca ggcac gcaca cacat acatg catgt atgtg tgtga'"
      ]
     },
     "execution_count": 125,
     "metadata": {},
     "output_type": "execute_result"
    }
   ],
   "source": [
    "chimp_text[0]"
   ]
  },
  {
   "cell_type": "code",
   "execution_count": 142,
   "metadata": {},
   "outputs": [],
   "source": [
    "from sklearn.feature_extraction.text import CountVectorizer\n",
    "cv = CountVectorizer(ngram_range=(6,6))\n",
    "X = cv.fit_transform(chimp_text)"
   ]
  },
  {
   "cell_type": "code",
   "execution_count": 143,
   "metadata": {},
   "outputs": [
    {
     "data": {
      "text/plain": [
       "(1682, 586138)"
      ]
     },
     "execution_count": 143,
     "metadata": {},
     "output_type": "execute_result"
    }
   ],
   "source": [
    "X.shape"
   ]
  },
  {
   "cell_type": "code",
   "execution_count": 144,
   "metadata": {},
   "outputs": [
    {
     "data": {
      "text/plain": [
       "<Axes: xlabel='class'>"
      ]
     },
     "execution_count": 144,
     "metadata": {},
     "output_type": "execute_result"
    },
    {
     "data": {
      "image/png": "[encoded data removed]",
      "text/plain": [
       "<Figure size 640x480 with 1 Axes>"
      ]
     },
     "metadata": {},
     "output_type": "display_data"
    }
   ],
   "source": [
    "df['class'].value_counts().sort_index().plot.bar()"
   ]
  },
  {
   "cell_type": "code",
   "execution_count": 145,
   "metadata": {},
   "outputs": [],
   "source": [
    "from sklearn.model_selection import train_test_split\n",
    "\n",
    "X_train, X_test, y_train, y_test = train_test_split(X, label,test_size = 0.2, random_state=42)"
   ]
  },
  {
   "cell_type": "code",
   "execution_count": 146,
   "metadata": {},
   "outputs": [
    {
     "data": {
      "text/plain": [
       "(1345, 586138)"
      ]
     },
     "execution_count": 146,
     "metadata": {},
     "output_type": "execute_result"
    }
   ],
   "source": [
    "X_train.shape"
   ]
  },
  {
   "cell_type": "code",
   "execution_count": 147,
   "metadata": {},
   "outputs": [
    {
     "data": {
      "text/html": [
       "<style>#sk-container-id-15 {color: black;}#sk-container-id-15 pre{padding: 0;}#sk-container-id-15 div.sk-toggleable {background-color: white;}#sk-container-id-15 label.sk-toggleable__label {cursor: pointer;display: block;width: 100%;margin-bottom: 0;padding: 0.3em;box-sizing: border-box;text-align: center;}#sk-container-id-15 label.sk-toggleable__label-arrow:before {content: \"▸\";float: left;margin-right: 0.25em;color: #696969;}#sk-container-id-15 label.sk-toggleable__label-arrow:hover:before {color: black;}#sk-container-id-15 div.sk-estimator:hover label.sk-toggleable__label-arrow:before {color: black;}#sk-container-id-15 div.sk-toggleable__content {max-height: 0;max-width: 0;overflow: hidden;text-align: left;background-color: #f0f8ff;}#sk-container-id-15 div.sk-toggleable__content pre {margin: 0.2em;color: black;border-radius: 0.25em;background-color: #f0f8ff;}#sk-container-id-15 input.sk-toggleable__control:checked~div.sk-toggleable__content {max-height: 200px;max-width: 100%;overflow: auto;}#sk-container-id-15 input.sk-toggleable__control:checked~label.sk-toggleable__label-arrow:before {content: \"▾\";}#sk-container-id-15 div.sk-estimator input.sk-toggleable__control:checked~label.sk-toggleable__label {background-color: #d4ebff;}#sk-container-id-15 div.sk-label input.sk-toggleable__control:checked~label.sk-toggleable__label {background-color: #d4ebff;}#sk-container-id-15 input.sk-hidden--visually {border: 0;clip: rect(1px 1px 1px 1px);clip: rect(1px, 1px, 1px, 1px);height: 1px;margin: -1px;overflow: hidden;padding: 0;position: absolute;width: 1px;}#sk-container-id-15 div.sk-estimator {font-family: monospace;background-color: #f0f8ff;border: 1px dotted black;border-radius: 0.25em;box-sizing: border-box;margin-bottom: 0.5em;}#sk-container-id-15 div.sk-estimator:hover {background-color: #d4ebff;}#sk-container-id-15 div.sk-parallel-item::after {content: \"\";width: 100%;border-bottom: 1px solid gray;flex-grow: 1;}#sk-container-id-15 div.sk-label:hover label.sk-toggleable__label {background-color: #d4ebff;}#sk-container-id-15 div.sk-serial::before {content: \"\";position: absolute;border-left: 1px solid gray;box-sizing: border-box;top: 0;bottom: 0;left: 50%;z-index: 0;}#sk-container-id-15 div.sk-serial {display: flex;flex-direction: column;align-items: center;background-color: white;padding-right: 0.2em;padding-left: 0.2em;position: relative;}#sk-container-id-15 div.sk-item {position: relative;z-index: 1;}#sk-container-id-15 div.sk-parallel {display: flex;align-items: stretch;justify-content: center;background-color: white;position: relative;}#sk-container-id-15 div.sk-item::before, #sk-container-id-15 div.sk-parallel-item::before {content: \"\";position: absolute;border-left: 1px solid gray;box-sizing: border-box;top: 0;bottom: 0;left: 50%;z-index: -1;}#sk-container-id-15 div.sk-parallel-item {display: flex;flex-direction: column;z-index: 1;position: relative;background-color: white;}#sk-container-id-15 div.sk-parallel-item:first-child::after {align-self: flex-end;width: 50%;}#sk-container-id-15 div.sk-parallel-item:last-child::after {align-self: flex-start;width: 50%;}#sk-container-id-15 div.sk-parallel-item:only-child::after {width: 0;}#sk-container-id-15 div.sk-dashed-wrapped {border: 1px dashed gray;margin: 0 0.4em 0.5em 0.4em;box-sizing: border-box;padding-bottom: 0.4em;background-color: white;}#sk-container-id-15 div.sk-label label {font-family: monospace;font-weight: bold;display: inline-block;line-height: 1.2em;}#sk-container-id-15 div.sk-label-container {text-align: center;}#sk-container-id-15 div.sk-container {/* jupyter's `normalize.less` sets `[hidden] { display: none; }` but bootstrap.min.css set `[hidden] { display: none !important; }` so we also need the `!important` here to be able to override the default hidden behavior on the sphinx rendered scikit-learn.org. See: https://github.com/scikit-learn/scikit-learn/issues/21755 */display: inline-block !important;position: relative;}#sk-container-id-15 div.sk-text-repr-fallback {display: none;}</style><div id=\"sk-container-id-15\" class=\"sk-top-container\"><div class=\"sk-text-repr-fallback\"><pre>MultinomialNB(alpha=0.05)</pre><b>In a Jupyter environment, please rerun this cell to show the HTML representation or trust the notebook. <br />On GitHub, the HTML representation is unable to render, please try loading this page with nbviewer.org.</b></div><div class=\"sk-container\" hidden><div class=\"sk-item\"><div class=\"sk-estimator sk-toggleable\"><input class=\"sk-toggleable__control sk-hidden--visually\" id=\"sk-estimator-id-15\" type=\"checkbox\" checked><label for=\"sk-estimator-id-15\" class=\"sk-toggleable__label sk-toggleable__label-arrow\">MultinomialNB</label><div class=\"sk-toggleable__content\"><pre>MultinomialNB(alpha=0.05)</pre></div></div></div></div></div>"
      ],
      "text/plain": [
       "MultinomialNB(alpha=0.05)"
      ]
     },
     "execution_count": 147,
     "metadata": {},
     "output_type": "execute_result"
    }
   ],
   "source": [
    "from sklearn.naive_bayes import MultinomialNB\n",
    "classifier = MultinomialNB(alpha=0.05)\n",
    "classifier.fit(X_train, y_train)"
   ]
  },
  {
   "cell_type": "code",
   "execution_count": 148,
   "metadata": {},
   "outputs": [],
   "source": [
    "y_pred = classifier.predict(X_test)"
   ]
  },
  {
   "cell_type": "code",
   "execution_count": 149,
   "metadata": {},
   "outputs": [
    {
     "name": "stdout",
     "output_type": "stream",
     "text": [
      "Confusion matrix\n",
      "\n",
      "Predicted   0   1   2   3   4   5   6\n",
      "Actual                               \n",
      "0          40   0   0   0   9   0   0\n",
      "1           0  34   0   2   0   0   1\n",
      "2           1   0  27   0   1   0   0\n",
      "3           0   0   0  36   3   0   0\n",
      "4           0   1   0   1  57   0   2\n",
      "5           1   0   0   0   2  15   0\n",
      "6           1   0   0   3   1   0  99\n",
      "accuracy = 0.914 \n",
      "precision = 0.921 \n",
      "recall = 0.914 \n",
      "f1 = 0.915\n"
     ]
    }
   ],
   "source": [
    "from sklearn.metrics import accuracy_score, f1_score, precision_score, recall_score\n",
    "print(\"Confusion matrix\\n\")\n",
    "print(pd.crosstab(pd.Series(y_test, name='Actual'), pd.Series(y_pred, name='Predicted')))\n",
    "def get_metrics(y_test, y_predicted):\n",
    "    accuracy = accuracy_score(y_test, y_predicted)\n",
    "    precision = precision_score(y_test, y_predicted, average='weighted')\n",
    "    recall = recall_score(y_test, y_predicted, average='weighted')\n",
    "    f1 = f1_score(y_test, y_predicted, average='weighted')\n",
    "    return accuracy, precision, recall, f1\n",
    "accuracy, precision, recall, f1 = get_metrics(y_test, y_pred)\n",
    "print(\"accuracy = %.3f \\nprecision = %.3f \\nrecall = %.3f \\nf1 = %.3f\" % (accuracy, precision, recall, f1))"
   ]
  },
  {
   "cell_type": "code",
   "execution_count": null,
   "metadata": {},
   "outputs": [],
   "source": []
  }
 ],
 "metadata": {
  "kernelspec": {
   "display_name": "Python 3",
   "language": "python",
   "name": "python3"
  },
  "language_info": {
   "codemirror_mode": {
    "name": "ipython",
    "version": 3
   },
   "file_extension": ".py",
   "mimetype": "text/x-python",
   "name": "python",
   "nbconvert_exporter": "python",
   "pygments_lexer": "ipython3",
   "version": "3.11.2"
  }
 },
 "nbformat": 4,
 "nbformat_minor": 2
}
